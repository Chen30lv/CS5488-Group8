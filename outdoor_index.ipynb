{
 "cells": [
  {
   "cell_type": "code",
   "execution_count": 1,
   "outputs": [],
   "source": [
    "import pandas as pd\n",
    "import matplotlib.pyplot as plt\n",
    "import seaborn as sns\n",
    "import numpy as np"
   ],
   "metadata": {
    "collapsed": false,
    "ExecuteTime": {
     "end_time": "2023-11-20T17:39:50.515886Z",
     "start_time": "2023-11-20T17:39:49.914869Z"
    }
   },
   "id": "initial_id"
  },
  {
   "cell_type": "markdown",
   "source": [
    "### Humidity"
   ],
   "metadata": {
    "collapsed": false
   },
   "id": "291201b162510080"
  },
  {
   "cell_type": "code",
   "execution_count": 2,
   "outputs": [],
   "source": [
    "humidity_data = pd.read_csv('/Users/lyu/School/SemeterA/Big_Data/final_project/2019-2023full_data/data_info_main_par.csv', \n",
    "                   header=0, names=[\"Date\", \"Relative Humidity\"], usecols=[0,2])"
   ],
   "metadata": {
    "collapsed": false,
    "ExecuteTime": {
     "end_time": "2023-11-20T17:39:50.516870Z",
     "start_time": "2023-11-20T17:39:49.918083Z"
    }
   },
   "id": "a97f9faebfc43320"
  },
  {
   "cell_type": "code",
   "execution_count": 3,
   "outputs": [
    {
     "name": "stderr",
     "output_type": "stream",
     "text": [
      "/var/folders/1y/4b73j19n3tn6q7jnly7bx_600000gn/T/ipykernel_20265/1256628134.py:2: SettingWithCopyWarning: \n",
      "A value is trying to be set on a copy of a slice from a DataFrame.\n",
      "Try using .loc[row_indexer,col_indexer] = value instead\n",
      "\n",
      "See the caveats in the documentation: https://pandas.pydata.org/pandas-docs/stable/user_guide/indexing.html#returning-a-view-versus-a-copy\n",
      "  humidity_data_2020[\"Date\"] = pd.to_datetime(humidity_data_2020[\"Date\"])\n"
     ]
    }
   ],
   "source": [
    "humidity_data_2020 = humidity_data[humidity_data[\"Date\"].str.startswith(\"2020\")]\n",
    "humidity_data_2020[\"Date\"] = pd.to_datetime(humidity_data_2020[\"Date\"])\n",
    "daily_data_2020 = humidity_data_2020.groupby(humidity_data_2020[\"Date\"].dt.date)[\"Relative Humidity\"].mean()\n",
    "\n",
    "daily_humidity_data_2020 = pd.DataFrame({\"Date\": daily_data_2020.index, \"Relative Humidity\": daily_data_2020.values})\n",
    "daily_humidity_data_2020['Date'] = daily_humidity_data_2020['Date'].astype(str).str[-5:]\n",
    "#删除闰年\n",
    "daily_humidity_data_2020.drop(59, inplace=True)"
   ],
   "metadata": {
    "collapsed": false,
    "ExecuteTime": {
     "end_time": "2023-11-20T17:39:50.517266Z",
     "start_time": "2023-11-20T17:39:49.995821Z"
    }
   },
   "id": "bc8c42e276ee0b04"
  },
  {
   "cell_type": "code",
   "execution_count": 4,
   "outputs": [
    {
     "name": "stderr",
     "output_type": "stream",
     "text": [
      "/var/folders/1y/4b73j19n3tn6q7jnly7bx_600000gn/T/ipykernel_20265/1671365137.py:2: SettingWithCopyWarning: \n",
      "A value is trying to be set on a copy of a slice from a DataFrame.\n",
      "Try using .loc[row_indexer,col_indexer] = value instead\n",
      "\n",
      "See the caveats in the documentation: https://pandas.pydata.org/pandas-docs/stable/user_guide/indexing.html#returning-a-view-versus-a-copy\n",
      "  humidity_data_2021[\"Date\"] = pd.to_datetime(humidity_data_2021[\"Date\"])\n"
     ]
    }
   ],
   "source": [
    "humidity_data_2021 = humidity_data[humidity_data[\"Date\"].str.startswith(\"2021\")]\n",
    "humidity_data_2021[\"Date\"] = pd.to_datetime(humidity_data_2021[\"Date\"])\n",
    "daily_data_2021 = humidity_data_2021.groupby(humidity_data_2021[\"Date\"].dt.date)[\"Relative Humidity\"].mean()\n",
    "daily_humidity_data_2021 = pd.DataFrame({\"Date\": daily_data_2021.index, \"Relative Humidity\": daily_data_2021.values})\n",
    "daily_humidity_data_2021['Date'] = daily_humidity_data_2021['Date'].astype(str).str[-5:]"
   ],
   "metadata": {
    "collapsed": false,
    "ExecuteTime": {
     "end_time": "2023-11-20T17:39:50.517504Z",
     "start_time": "2023-11-20T17:39:50.023051Z"
    }
   },
   "id": "69ddb22bb38a89b"
  },
  {
   "cell_type": "code",
   "execution_count": 5,
   "outputs": [
    {
     "name": "stderr",
     "output_type": "stream",
     "text": [
      "/var/folders/1y/4b73j19n3tn6q7jnly7bx_600000gn/T/ipykernel_20265/1567101537.py:2: SettingWithCopyWarning: \n",
      "A value is trying to be set on a copy of a slice from a DataFrame.\n",
      "Try using .loc[row_indexer,col_indexer] = value instead\n",
      "\n",
      "See the caveats in the documentation: https://pandas.pydata.org/pandas-docs/stable/user_guide/indexing.html#returning-a-view-versus-a-copy\n",
      "  humidity_data_2022[\"Date\"] = pd.to_datetime(humidity_data_2022[\"Date\"])\n"
     ]
    }
   ],
   "source": [
    "humidity_data_2022 = humidity_data[humidity_data[\"Date\"].str.startswith(\"2022\")]\n",
    "humidity_data_2022[\"Date\"] = pd.to_datetime(humidity_data_2022[\"Date\"])\n",
    "daily_data_2022 = humidity_data_2022.groupby(humidity_data_2022[\"Date\"].dt.date)[\"Relative Humidity\"].mean()\n",
    "daily_humidity_data_2022 = pd.DataFrame({\"Date\": daily_data_2022.index, \"Relative Humidity\": daily_data_2022.values})\n",
    "daily_humidity_data_2022['Date'] = daily_humidity_data_2022['Date'].astype(str).str[-5:]"
   ],
   "metadata": {
    "collapsed": false,
    "ExecuteTime": {
     "end_time": "2023-11-20T17:39:50.517656Z",
     "start_time": "2023-11-20T17:39:50.037710Z"
    }
   },
   "id": "a96ee2a690abf29e"
  },
  {
   "cell_type": "code",
   "execution_count": 6,
   "outputs": [
    {
     "name": "stderr",
     "output_type": "stream",
     "text": [
      "/var/folders/1y/4b73j19n3tn6q7jnly7bx_600000gn/T/ipykernel_20265/4265298260.py:2: SettingWithCopyWarning: \n",
      "A value is trying to be set on a copy of a slice from a DataFrame.\n",
      "Try using .loc[row_indexer,col_indexer] = value instead\n",
      "\n",
      "See the caveats in the documentation: https://pandas.pydata.org/pandas-docs/stable/user_guide/indexing.html#returning-a-view-versus-a-copy\n",
      "  humidity_data_2023[\"Date\"] = pd.to_datetime(humidity_data_2023[\"Date\"])\n"
     ]
    }
   ],
   "source": [
    "humidity_data_2023 = humidity_data[humidity_data[\"Date\"].str.startswith(\"2023\")]\n",
    "humidity_data_2023[\"Date\"] = pd.to_datetime(humidity_data_2023[\"Date\"])\n",
    "daily_data_2023 = humidity_data_2023.groupby(humidity_data_2023[\"Date\"].dt.date)[\"Relative Humidity\"].mean()\n",
    "daily_humidity_data_2023 = pd.DataFrame({\"Date\": daily_data_2023.index, \"Relative Humidity\": daily_data_2023.values})\n",
    "daily_humidity_data_2023['Date'] = daily_humidity_data_2023['Date'].astype(str).str[-5:]"
   ],
   "metadata": {
    "collapsed": false,
    "ExecuteTime": {
     "end_time": "2023-11-20T17:39:50.517814Z",
     "start_time": "2023-11-20T17:39:50.069910Z"
    }
   },
   "id": "7ca12a4b62e3b7e6"
  },
  {
   "cell_type": "code",
   "execution_count": 7,
   "outputs": [
    {
     "name": "stdout",
     "output_type": "stream",
     "text": [
      "      Date  Relative Humidity\n",
      "0    01-01          64.666667\n",
      "1    01-02          65.375000\n",
      "2    01-03          68.125000\n",
      "3    01-04          73.750000\n",
      "4    01-05          76.875000\n",
      "..     ...                ...\n",
      "311  11-08          76.958333\n",
      "312  11-09          81.083333\n",
      "313  11-10          82.291667\n",
      "314  11-11          84.750000\n",
      "315  11-12          77.391304\n",
      "\n",
      "[316 rows x 2 columns]\n"
     ]
    }
   ],
   "source": [
    "print(daily_humidity_data_2023)"
   ],
   "metadata": {
    "collapsed": false,
    "ExecuteTime": {
     "end_time": "2023-11-20T17:39:50.517958Z",
     "start_time": "2023-11-20T17:39:50.080955Z"
    }
   },
   "id": "3dafdbb722187c6d"
  },
  {
   "cell_type": "code",
   "execution_count": 8,
   "outputs": [
    {
     "name": "stdout",
     "output_type": "stream",
     "text": [
      "<class 'pandas.core.frame.DataFrame'>\n"
     ]
    }
   ],
   "source": [
    "print(type(daily_humidity_data_2023))"
   ],
   "metadata": {
    "collapsed": false,
    "ExecuteTime": {
     "end_time": "2023-11-20T17:39:50.518095Z",
     "start_time": "2023-11-20T17:39:50.089432Z"
    }
   },
   "id": "2aa59c2725459384"
  },
  {
   "cell_type": "code",
   "execution_count": 9,
   "outputs": [],
   "source": [
    "daily_humidity_data = pd.concat([daily_humidity_data_2020, daily_humidity_data_2021, daily_humidity_data_2022, daily_humidity_data_2023])\n",
    "\n",
    "daily_avg_humidity = daily_humidity_data.groupby('Date')['Relative Humidity'].mean().reset_index()"
   ],
   "metadata": {
    "collapsed": false,
    "ExecuteTime": {
     "end_time": "2023-11-20T17:39:50.518164Z",
     "start_time": "2023-11-20T17:39:50.094228Z"
    }
   },
   "id": "6c04cb59833cf472"
  },
  {
   "cell_type": "code",
   "execution_count": 10,
   "outputs": [
    {
     "data": {
      "text/plain": "      Date  Relative Humidity\n0    01-01          65.270833\n1    01-02          67.666667\n2    01-03          73.293931\n3    01-04          74.322917\n4    01-05          74.062500\n..     ...                ...\n360  12-27          73.444444\n361  12-28          70.430556\n362  12-29          69.165338\n363  12-30          63.736111\n364  12-31          59.958333\n\n[365 rows x 2 columns]",
      "text/html": "<div>\n<style scoped>\n    .dataframe tbody tr th:only-of-type {\n        vertical-align: middle;\n    }\n\n    .dataframe tbody tr th {\n        vertical-align: top;\n    }\n\n    .dataframe thead th {\n        text-align: right;\n    }\n</style>\n<table border=\"1\" class=\"dataframe\">\n  <thead>\n    <tr style=\"text-align: right;\">\n      <th></th>\n      <th>Date</th>\n      <th>Relative Humidity</th>\n    </tr>\n  </thead>\n  <tbody>\n    <tr>\n      <th>0</th>\n      <td>01-01</td>\n      <td>65.270833</td>\n    </tr>\n    <tr>\n      <th>1</th>\n      <td>01-02</td>\n      <td>67.666667</td>\n    </tr>\n    <tr>\n      <th>2</th>\n      <td>01-03</td>\n      <td>73.293931</td>\n    </tr>\n    <tr>\n      <th>3</th>\n      <td>01-04</td>\n      <td>74.322917</td>\n    </tr>\n    <tr>\n      <th>4</th>\n      <td>01-05</td>\n      <td>74.062500</td>\n    </tr>\n    <tr>\n      <th>...</th>\n      <td>...</td>\n      <td>...</td>\n    </tr>\n    <tr>\n      <th>360</th>\n      <td>12-27</td>\n      <td>73.444444</td>\n    </tr>\n    <tr>\n      <th>361</th>\n      <td>12-28</td>\n      <td>70.430556</td>\n    </tr>\n    <tr>\n      <th>362</th>\n      <td>12-29</td>\n      <td>69.165338</td>\n    </tr>\n    <tr>\n      <th>363</th>\n      <td>12-30</td>\n      <td>63.736111</td>\n    </tr>\n    <tr>\n      <th>364</th>\n      <td>12-31</td>\n      <td>59.958333</td>\n    </tr>\n  </tbody>\n</table>\n<p>365 rows × 2 columns</p>\n</div>"
     },
     "execution_count": 10,
     "metadata": {},
     "output_type": "execute_result"
    }
   ],
   "source": [
    "daily_avg_humidity"
   ],
   "metadata": {
    "collapsed": false,
    "ExecuteTime": {
     "end_time": "2023-11-20T17:39:50.518645Z",
     "start_time": "2023-11-20T17:39:50.101773Z"
    }
   },
   "id": "3873ea626a105e64"
  },
  {
   "cell_type": "markdown",
   "source": [
    "### Rain"
   ],
   "metadata": {
    "collapsed": false
   },
   "id": "6061a35a4f84e8f8"
  },
  {
   "cell_type": "code",
   "execution_count": 11,
   "outputs": [
    {
     "name": "stderr",
     "output_type": "stream",
     "text": [
      "/var/folders/1y/4b73j19n3tn6q7jnly7bx_600000gn/T/ipykernel_20265/3877821037.py:13: SettingWithCopyWarning: \n",
      "A value is trying to be set on a copy of a slice from a DataFrame.\n",
      "Try using .loc[row_indexer,col_indexer] = value instead\n",
      "\n",
      "See the caveats in the documentation: https://pandas.pydata.org/pandas-docs/stable/user_guide/indexing.html#returning-a-view-versus-a-copy\n",
      "  rain_data_2020['rain'] = rain_data_2020['rain'].apply(process_column)\n",
      "/var/folders/1y/4b73j19n3tn6q7jnly7bx_600000gn/T/ipykernel_20265/3877821037.py:19: SettingWithCopyWarning: \n",
      "A value is trying to be set on a copy of a slice from a DataFrame.\n",
      "Try using .loc[row_indexer,col_indexer] = value instead\n",
      "\n",
      "See the caveats in the documentation: https://pandas.pydata.org/pandas-docs/stable/user_guide/indexing.html#returning-a-view-versus-a-copy\n",
      "  rain_data_2021['rain'] = rain_data_2021['rain'].apply(process_column)\n",
      "/var/folders/1y/4b73j19n3tn6q7jnly7bx_600000gn/T/ipykernel_20265/3877821037.py:24: SettingWithCopyWarning: \n",
      "A value is trying to be set on a copy of a slice from a DataFrame.\n",
      "Try using .loc[row_indexer,col_indexer] = value instead\n",
      "\n",
      "See the caveats in the documentation: https://pandas.pydata.org/pandas-docs/stable/user_guide/indexing.html#returning-a-view-versus-a-copy\n",
      "  rain_data_2022['rain'] = rain_data_2022['rain'].apply(process_column)\n",
      "/var/folders/1y/4b73j19n3tn6q7jnly7bx_600000gn/T/ipykernel_20265/3877821037.py:29: SettingWithCopyWarning: \n",
      "A value is trying to be set on a copy of a slice from a DataFrame.\n",
      "Try using .loc[row_indexer,col_indexer] = value instead\n",
      "\n",
      "See the caveats in the documentation: https://pandas.pydata.org/pandas-docs/stable/user_guide/indexing.html#returning-a-view-versus-a-copy\n",
      "  rain_data_2023['rain'] = rain_data_2023['rain'].apply(process_column)\n"
     ]
    }
   ],
   "source": [
    "rain_data = pd.read_csv('/Users/lyu/School/SemeterA/Big_Data/final_project/2019-2023full_data/data_info_rain_par.csv', \n",
    "                   header=0, names=[\"Time\",\"area\",\"rain\"])\n",
    "\n",
    "def process_column(value):\n",
    "    if 'to' in value:\n",
    "        numbers = [int(num) for num in value.split(' to ')]\n",
    "        return sum(numbers) / len(numbers)\n",
    "    else:\n",
    "        return int(value)\n",
    "\n",
    "# 2020年每日各地区雨量数据\n",
    "rain_data_2020 = rain_data[rain_data[\"Time\"].str.startswith(\"2020\")]\n",
    "rain_data_2020['rain'] = rain_data_2020['rain'].apply(process_column)\n",
    "# 使用iterrows()遍历DataFrame\n",
    "# rain_data_2020['rain'] = rain_data_2020['rain'].apply(lambda x: re.search(r'to (\\d+)', x).group(1) if re.search(r'to (\\d+)', x) else x).astype(int)\n",
    "   \n",
    "# # 2021年每日各地区雨量数据\n",
    "rain_data_2021 = rain_data[rain_data[\"Time\"].str.startswith(\"2021\")]\n",
    "rain_data_2021['rain'] = rain_data_2021['rain'].apply(process_column)\n",
    "# rain_data_2021[\"rain\"] = rain_data_2021[\"rain\"].apply(lambda x: re.search(r'to (\\d+)', x).group(1) if re.search(r'to (\\d+)', x) else x).astype(int)\n",
    "# \n",
    "# # 2022年每日各地区雨量数据\n",
    "rain_data_2022 = rain_data[rain_data[\"Time\"].str.startswith(\"2022\")]\n",
    "rain_data_2022['rain'] = rain_data_2022['rain'].apply(process_column)\n",
    "# rain_data_2022[\"rain\"] = rain_data_2022[\"rain\"].apply(lambda x: re.search(r'to (\\d+)', x).group(1) if re.search(r'to (\\d+)', x) else x).astype(int)\n",
    "# \n",
    "# # 2023年每日各地区雨量数据 只处理到10月不然会影响十一月的值\n",
    "rain_data_2023 = rain_data[rain_data[\"Time\"].str.startswith(\"2023\")]\n",
    "rain_data_2023['rain'] = rain_data_2023['rain'].apply(process_column)\n",
    "rain_data_2023 = rain_data_2023[:11340]"
   ],
   "metadata": {
    "collapsed": false,
    "ExecuteTime": {
     "end_time": "2023-11-20T17:39:50.519935Z",
     "start_time": "2023-11-20T17:39:50.110980Z"
    }
   },
   "id": "9ef1f92b6173e292"
  },
  {
   "cell_type": "code",
   "execution_count": 12,
   "outputs": [
    {
     "data": {
      "text/plain": "                      Time               area  rain\n6686   2020-01-13 04:02:00     North District   0.5\n6687   2020-01-25 17:02:00             Tai Po   0.5\n6688   2020-01-25 17:02:00   Eastern District   0.5\n6689   2020-01-25 17:02:00           Sai Kung   0.5\n6690   2020-01-25 17:02:00     North District   1.0\n...                    ...                ...   ...\n17893  2020-12-23 18:02:00       Wong Tai Sin   0.5\n17894  2020-12-23 18:02:00       Kowloon City   0.5\n17895  2020-12-23 19:02:00             Tai Po   0.5\n17896  2020-12-23 19:02:00   Eastern District   0.5\n17897  2020-12-23 19:02:00  Southern District   0.5\n\n[11212 rows x 3 columns]",
      "text/html": "<div>\n<style scoped>\n    .dataframe tbody tr th:only-of-type {\n        vertical-align: middle;\n    }\n\n    .dataframe tbody tr th {\n        vertical-align: top;\n    }\n\n    .dataframe thead th {\n        text-align: right;\n    }\n</style>\n<table border=\"1\" class=\"dataframe\">\n  <thead>\n    <tr style=\"text-align: right;\">\n      <th></th>\n      <th>Time</th>\n      <th>area</th>\n      <th>rain</th>\n    </tr>\n  </thead>\n  <tbody>\n    <tr>\n      <th>6686</th>\n      <td>2020-01-13 04:02:00</td>\n      <td>North District</td>\n      <td>0.5</td>\n    </tr>\n    <tr>\n      <th>6687</th>\n      <td>2020-01-25 17:02:00</td>\n      <td>Tai Po</td>\n      <td>0.5</td>\n    </tr>\n    <tr>\n      <th>6688</th>\n      <td>2020-01-25 17:02:00</td>\n      <td>Eastern District</td>\n      <td>0.5</td>\n    </tr>\n    <tr>\n      <th>6689</th>\n      <td>2020-01-25 17:02:00</td>\n      <td>Sai Kung</td>\n      <td>0.5</td>\n    </tr>\n    <tr>\n      <th>6690</th>\n      <td>2020-01-25 17:02:00</td>\n      <td>North District</td>\n      <td>1.0</td>\n    </tr>\n    <tr>\n      <th>...</th>\n      <td>...</td>\n      <td>...</td>\n      <td>...</td>\n    </tr>\n    <tr>\n      <th>17893</th>\n      <td>2020-12-23 18:02:00</td>\n      <td>Wong Tai Sin</td>\n      <td>0.5</td>\n    </tr>\n    <tr>\n      <th>17894</th>\n      <td>2020-12-23 18:02:00</td>\n      <td>Kowloon City</td>\n      <td>0.5</td>\n    </tr>\n    <tr>\n      <th>17895</th>\n      <td>2020-12-23 19:02:00</td>\n      <td>Tai Po</td>\n      <td>0.5</td>\n    </tr>\n    <tr>\n      <th>17896</th>\n      <td>2020-12-23 19:02:00</td>\n      <td>Eastern District</td>\n      <td>0.5</td>\n    </tr>\n    <tr>\n      <th>17897</th>\n      <td>2020-12-23 19:02:00</td>\n      <td>Southern District</td>\n      <td>0.5</td>\n    </tr>\n  </tbody>\n</table>\n<p>11212 rows × 3 columns</p>\n</div>"
     },
     "execution_count": 12,
     "metadata": {},
     "output_type": "execute_result"
    }
   ],
   "source": [
    "rain_data_2020"
   ],
   "metadata": {
    "collapsed": false,
    "ExecuteTime": {
     "end_time": "2023-11-20T17:39:50.520392Z",
     "start_time": "2023-11-20T17:39:50.242256Z"
    }
   },
   "id": "cd71ed890b9cb471"
  },
  {
   "cell_type": "code",
   "execution_count": 13,
   "outputs": [
    {
     "data": {
      "text/plain": "                      Time                            area  rain\n29187  2022-01-05 01:02:00                Islands District   0.5\n29188  2022-01-05 04:02:00                        Tuen Mun   0.5\n29189  2022-01-05 04:02:00                Islands District   0.5\n29190  2022-01-11 02:02:00                        Tuen Mun   0.5\n29191  2022-01-11 02:02:00                       Yuen Long   0.5\n...                    ...                             ...   ...\n43498  2022-12-17 07:02:00               Southern District   0.5\n43499  2022-12-17 07:02:00                       Yuen Long   0.5\n43500  2022-12-17 07:02:00  Central &amp; Western District   0.5\n43501  2022-12-17 08:02:00                Islands District   0.5\n43502  2022-12-17 09:02:00                Islands District   1.0\n\n[14316 rows x 3 columns]",
      "text/html": "<div>\n<style scoped>\n    .dataframe tbody tr th:only-of-type {\n        vertical-align: middle;\n    }\n\n    .dataframe tbody tr th {\n        vertical-align: top;\n    }\n\n    .dataframe thead th {\n        text-align: right;\n    }\n</style>\n<table border=\"1\" class=\"dataframe\">\n  <thead>\n    <tr style=\"text-align: right;\">\n      <th></th>\n      <th>Time</th>\n      <th>area</th>\n      <th>rain</th>\n    </tr>\n  </thead>\n  <tbody>\n    <tr>\n      <th>29187</th>\n      <td>2022-01-05 01:02:00</td>\n      <td>Islands District</td>\n      <td>0.5</td>\n    </tr>\n    <tr>\n      <th>29188</th>\n      <td>2022-01-05 04:02:00</td>\n      <td>Tuen Mun</td>\n      <td>0.5</td>\n    </tr>\n    <tr>\n      <th>29189</th>\n      <td>2022-01-05 04:02:00</td>\n      <td>Islands District</td>\n      <td>0.5</td>\n    </tr>\n    <tr>\n      <th>29190</th>\n      <td>2022-01-11 02:02:00</td>\n      <td>Tuen Mun</td>\n      <td>0.5</td>\n    </tr>\n    <tr>\n      <th>29191</th>\n      <td>2022-01-11 02:02:00</td>\n      <td>Yuen Long</td>\n      <td>0.5</td>\n    </tr>\n    <tr>\n      <th>...</th>\n      <td>...</td>\n      <td>...</td>\n      <td>...</td>\n    </tr>\n    <tr>\n      <th>43498</th>\n      <td>2022-12-17 07:02:00</td>\n      <td>Southern District</td>\n      <td>0.5</td>\n    </tr>\n    <tr>\n      <th>43499</th>\n      <td>2022-12-17 07:02:00</td>\n      <td>Yuen Long</td>\n      <td>0.5</td>\n    </tr>\n    <tr>\n      <th>43500</th>\n      <td>2022-12-17 07:02:00</td>\n      <td>Central &amp;amp; Western District</td>\n      <td>0.5</td>\n    </tr>\n    <tr>\n      <th>43501</th>\n      <td>2022-12-17 08:02:00</td>\n      <td>Islands District</td>\n      <td>0.5</td>\n    </tr>\n    <tr>\n      <th>43502</th>\n      <td>2022-12-17 09:02:00</td>\n      <td>Islands District</td>\n      <td>1.0</td>\n    </tr>\n  </tbody>\n</table>\n<p>14316 rows × 3 columns</p>\n</div>"
     },
     "execution_count": 13,
     "metadata": {},
     "output_type": "execute_result"
    }
   ],
   "source": [
    "rain_data_2022"
   ],
   "metadata": {
    "collapsed": false,
    "ExecuteTime": {
     "end_time": "2023-11-20T17:39:50.520781Z",
     "start_time": "2023-11-20T17:39:50.249794Z"
    }
   },
   "id": "e790efcd85aedc9a"
  },
  {
   "cell_type": "code",
   "execution_count": 14,
   "outputs": [
    {
     "name": "stderr",
     "output_type": "stream",
     "text": [
      "/var/folders/1y/4b73j19n3tn6q7jnly7bx_600000gn/T/ipykernel_20265/2668961245.py:1: SettingWithCopyWarning: \n",
      "A value is trying to be set on a copy of a slice from a DataFrame.\n",
      "Try using .loc[row_indexer,col_indexer] = value instead\n",
      "\n",
      "See the caveats in the documentation: https://pandas.pydata.org/pandas-docs/stable/user_guide/indexing.html#returning-a-view-versus-a-copy\n",
      "  rain_data_2020['Date'] = rain_data_2020[\"Time\"].str[5:10]\n",
      "/var/folders/1y/4b73j19n3tn6q7jnly7bx_600000gn/T/ipykernel_20265/2668961245.py:5: SettingWithCopyWarning: \n",
      "A value is trying to be set on a copy of a slice from a DataFrame.\n",
      "Try using .loc[row_indexer,col_indexer] = value instead\n",
      "\n",
      "See the caveats in the documentation: https://pandas.pydata.org/pandas-docs/stable/user_guide/indexing.html#returning-a-view-versus-a-copy\n",
      "  rain_data_2021['Date'] = rain_data_2021[\"Time\"].str[5:10]\n",
      "/var/folders/1y/4b73j19n3tn6q7jnly7bx_600000gn/T/ipykernel_20265/2668961245.py:9: SettingWithCopyWarning: \n",
      "A value is trying to be set on a copy of a slice from a DataFrame.\n",
      "Try using .loc[row_indexer,col_indexer] = value instead\n",
      "\n",
      "See the caveats in the documentation: https://pandas.pydata.org/pandas-docs/stable/user_guide/indexing.html#returning-a-view-versus-a-copy\n",
      "  rain_data_2022['Date'] = rain_data_2022[\"Time\"].str[5:10]\n"
     ]
    }
   ],
   "source": [
    "rain_data_2020['Date'] = rain_data_2020[\"Time\"].str[5:10]\n",
    "data_2020 = rain_data_2020.groupby(['Date'])[\"rain\"].sum()\n",
    "data_2020 = data_2020.reset_index()\n",
    "\n",
    "rain_data_2021['Date'] = rain_data_2021[\"Time\"].str[5:10]\n",
    "data_2021 = rain_data_2021.groupby(['Date'])[\"rain\"].sum()\n",
    "data_2021 = data_2021.reset_index()\n",
    "\n",
    "rain_data_2022['Date'] = rain_data_2022[\"Time\"].str[5:10]\n",
    "data_2022 = rain_data_2022.groupby(['Date'])[\"rain\"].sum()\n",
    "data_2022 = data_2022.reset_index()\n",
    "\n",
    "rain_data_2023['Date'] = rain_data_2023[\"Time\"].str[5:10]\n",
    "data_2023 = rain_data_2023.groupby(['Date'])[\"rain\"].sum()\n",
    "data_2023 = data_2023.reset_index()\n",
    "data_2023.drop(11, inplace=True)\n",
    "# result = data_2023[data_2023['month'] == '01']\n",
    "# result\n",
    "\n",
    "# all_data = pd.concat([data_2020, data_2021, data_2022, data_2023])\n",
    "# monthly_total_rain = all_data.groupby(['Date'])['rain'].mean()\n",
    "# monthly_total_rain= monthly_total_rain.reset_index()"
   ],
   "metadata": {
    "collapsed": false,
    "ExecuteTime": {
     "end_time": "2023-11-20T17:39:50.521024Z",
     "start_time": "2023-11-20T17:39:50.258321Z"
    }
   },
   "id": "92cdeaa5db1c50ac"
  },
  {
   "cell_type": "code",
   "execution_count": 15,
   "outputs": [
    {
     "data": {
      "text/plain": "      Date   rain\n0    01-13    0.5\n1    01-25   51.5\n2    01-26  408.5\n3    02-03    4.0\n4    02-04   23.0\n..     ...    ...\n186  11-19    3.5\n187  11-21   11.0\n188  11-22    6.5\n189  11-23    5.5\n190  12-23    6.5\n\n[191 rows x 2 columns]",
      "text/html": "<div>\n<style scoped>\n    .dataframe tbody tr th:only-of-type {\n        vertical-align: middle;\n    }\n\n    .dataframe tbody tr th {\n        vertical-align: top;\n    }\n\n    .dataframe thead th {\n        text-align: right;\n    }\n</style>\n<table border=\"1\" class=\"dataframe\">\n  <thead>\n    <tr style=\"text-align: right;\">\n      <th></th>\n      <th>Date</th>\n      <th>rain</th>\n    </tr>\n  </thead>\n  <tbody>\n    <tr>\n      <th>0</th>\n      <td>01-13</td>\n      <td>0.5</td>\n    </tr>\n    <tr>\n      <th>1</th>\n      <td>01-25</td>\n      <td>51.5</td>\n    </tr>\n    <tr>\n      <th>2</th>\n      <td>01-26</td>\n      <td>408.5</td>\n    </tr>\n    <tr>\n      <th>3</th>\n      <td>02-03</td>\n      <td>4.0</td>\n    </tr>\n    <tr>\n      <th>4</th>\n      <td>02-04</td>\n      <td>23.0</td>\n    </tr>\n    <tr>\n      <th>...</th>\n      <td>...</td>\n      <td>...</td>\n    </tr>\n    <tr>\n      <th>186</th>\n      <td>11-19</td>\n      <td>3.5</td>\n    </tr>\n    <tr>\n      <th>187</th>\n      <td>11-21</td>\n      <td>11.0</td>\n    </tr>\n    <tr>\n      <th>188</th>\n      <td>11-22</td>\n      <td>6.5</td>\n    </tr>\n    <tr>\n      <th>189</th>\n      <td>11-23</td>\n      <td>5.5</td>\n    </tr>\n    <tr>\n      <th>190</th>\n      <td>12-23</td>\n      <td>6.5</td>\n    </tr>\n  </tbody>\n</table>\n<p>191 rows × 2 columns</p>\n</div>"
     },
     "execution_count": 15,
     "metadata": {},
     "output_type": "execute_result"
    }
   ],
   "source": [
    "data_2020"
   ],
   "metadata": {
    "collapsed": false,
    "ExecuteTime": {
     "end_time": "2023-11-20T17:39:50.521338Z",
     "start_time": "2023-11-20T17:39:50.280023Z"
    }
   },
   "id": "104f83cd119b3081"
  },
  {
   "cell_type": "code",
   "execution_count": 16,
   "outputs": [
    {
     "data": {
      "text/plain": "      Date  rain\n0    01-01   0.0\n1    01-02   0.0\n2    01-03   0.0\n3    01-04   0.0\n4    01-05   0.0\n..     ...   ...\n360  12-27   0.0\n361  12-28   0.0\n362  12-29   0.0\n363  12-30   0.0\n364  12-31   0.0\n\n[365 rows x 2 columns]",
      "text/html": "<div>\n<style scoped>\n    .dataframe tbody tr th:only-of-type {\n        vertical-align: middle;\n    }\n\n    .dataframe tbody tr th {\n        vertical-align: top;\n    }\n\n    .dataframe thead th {\n        text-align: right;\n    }\n</style>\n<table border=\"1\" class=\"dataframe\">\n  <thead>\n    <tr style=\"text-align: right;\">\n      <th></th>\n      <th>Date</th>\n      <th>rain</th>\n    </tr>\n  </thead>\n  <tbody>\n    <tr>\n      <th>0</th>\n      <td>01-01</td>\n      <td>0.0</td>\n    </tr>\n    <tr>\n      <th>1</th>\n      <td>01-02</td>\n      <td>0.0</td>\n    </tr>\n    <tr>\n      <th>2</th>\n      <td>01-03</td>\n      <td>0.0</td>\n    </tr>\n    <tr>\n      <th>3</th>\n      <td>01-04</td>\n      <td>0.0</td>\n    </tr>\n    <tr>\n      <th>4</th>\n      <td>01-05</td>\n      <td>0.0</td>\n    </tr>\n    <tr>\n      <th>...</th>\n      <td>...</td>\n      <td>...</td>\n    </tr>\n    <tr>\n      <th>360</th>\n      <td>12-27</td>\n      <td>0.0</td>\n    </tr>\n    <tr>\n      <th>361</th>\n      <td>12-28</td>\n      <td>0.0</td>\n    </tr>\n    <tr>\n      <th>362</th>\n      <td>12-29</td>\n      <td>0.0</td>\n    </tr>\n    <tr>\n      <th>363</th>\n      <td>12-30</td>\n      <td>0.0</td>\n    </tr>\n    <tr>\n      <th>364</th>\n      <td>12-31</td>\n      <td>0.0</td>\n    </tr>\n  </tbody>\n</table>\n<p>365 rows × 2 columns</p>\n</div>"
     },
     "execution_count": 16,
     "metadata": {},
     "output_type": "execute_result"
    }
   ],
   "source": [
    "data_2020['Date'] = pd.to_datetime(data_2020['Date'], format='%m-%d')\n",
    "\n",
    "start_date = data_2020['Date'].min()\n",
    "end_date = data_2020['Date'].max()\n",
    "\n",
    "# 调整日期范围的起始和结束\n",
    "start_date_adjusted = start_date - pd.DateOffset(days=12)\n",
    "end_date_adjusted = end_date + pd.DateOffset(days=8)\n",
    "\n",
    "full_date_range = pd.date_range(start=start_date_adjusted, end=end_date_adjusted, freq='D')\n",
    "\n",
    "# 创建包含日期范围的新 DataFrame，并将其与原始 DataFrame 合并\n",
    "full_df = pd.DataFrame({'Date': full_date_range})\n",
    "data_2020_all = pd.merge(full_df, data_2020, on='Date', how='left')\n",
    "\n",
    "# 将缺失值填充为0\n",
    "data_2020_all['rain'] = data_2020_all['rain'].fillna(0)\n",
    "\n",
    "data_2020_all['Date'] = data_2020_all['Date'].dt.strftime('%m-%d')\n",
    "\n",
    "# 打印结果\n",
    "data_2020_all"
   ],
   "metadata": {
    "collapsed": false,
    "ExecuteTime": {
     "end_time": "2023-11-20T17:39:50.521683Z",
     "start_time": "2023-11-20T17:39:50.288224Z"
    }
   },
   "id": "c1d030f11321a6b3"
  },
  {
   "cell_type": "code",
   "execution_count": 17,
   "outputs": [
    {
     "data": {
      "text/plain": "      Date  rain\n0    01-01   0.0\n1    01-02   0.0\n2    01-03   0.0\n3    01-04   0.0\n4    01-05   0.0\n..     ...   ...\n360  12-27   0.0\n361  12-28   0.0\n362  12-29   0.0\n363  12-30   0.0\n364  12-31   0.0\n\n[365 rows x 2 columns]",
      "text/html": "<div>\n<style scoped>\n    .dataframe tbody tr th:only-of-type {\n        vertical-align: middle;\n    }\n\n    .dataframe tbody tr th {\n        vertical-align: top;\n    }\n\n    .dataframe thead th {\n        text-align: right;\n    }\n</style>\n<table border=\"1\" class=\"dataframe\">\n  <thead>\n    <tr style=\"text-align: right;\">\n      <th></th>\n      <th>Date</th>\n      <th>rain</th>\n    </tr>\n  </thead>\n  <tbody>\n    <tr>\n      <th>0</th>\n      <td>01-01</td>\n      <td>0.0</td>\n    </tr>\n    <tr>\n      <th>1</th>\n      <td>01-02</td>\n      <td>0.0</td>\n    </tr>\n    <tr>\n      <th>2</th>\n      <td>01-03</td>\n      <td>0.0</td>\n    </tr>\n    <tr>\n      <th>3</th>\n      <td>01-04</td>\n      <td>0.0</td>\n    </tr>\n    <tr>\n      <th>4</th>\n      <td>01-05</td>\n      <td>0.0</td>\n    </tr>\n    <tr>\n      <th>...</th>\n      <td>...</td>\n      <td>...</td>\n    </tr>\n    <tr>\n      <th>360</th>\n      <td>12-27</td>\n      <td>0.0</td>\n    </tr>\n    <tr>\n      <th>361</th>\n      <td>12-28</td>\n      <td>0.0</td>\n    </tr>\n    <tr>\n      <th>362</th>\n      <td>12-29</td>\n      <td>0.0</td>\n    </tr>\n    <tr>\n      <th>363</th>\n      <td>12-30</td>\n      <td>0.0</td>\n    </tr>\n    <tr>\n      <th>364</th>\n      <td>12-31</td>\n      <td>0.0</td>\n    </tr>\n  </tbody>\n</table>\n<p>365 rows × 2 columns</p>\n</div>"
     },
     "execution_count": 17,
     "metadata": {},
     "output_type": "execute_result"
    }
   ],
   "source": [
    "data_2021['Date'] = pd.to_datetime(data_2021['Date'], format='%m-%d')\n",
    "\n",
    "start_date = data_2021['Date'].min()\n",
    "end_date = data_2021['Date'].max()\n",
    "\n",
    "# 调整日期范围的起始和结束\n",
    "start_date_adjusted = start_date - pd.DateOffset(days=40)\n",
    "end_date_adjusted = end_date + pd.DateOffset(days=7)\n",
    "\n",
    "full_date_range = pd.date_range(start=start_date_adjusted, end=end_date_adjusted, freq='D')\n",
    "\n",
    "# 创建包含日期范围的新 DataFrame，并将其与原始 DataFrame 合并\n",
    "full_df = pd.DataFrame({'Date': full_date_range})\n",
    "data_2021_all = pd.merge(full_df, data_2021, on='Date', how='left')\n",
    "\n",
    "# 将缺失值填充为0\n",
    "data_2021_all['rain'] = data_2021_all['rain'].fillna(0)\n",
    "\n",
    "data_2021_all['Date'] = data_2021_all['Date'].dt.strftime('%m-%d')\n",
    "\n",
    "# 打印结果\n",
    "data_2021_all"
   ],
   "metadata": {
    "collapsed": false,
    "ExecuteTime": {
     "end_time": "2023-11-20T17:39:50.521997Z",
     "start_time": "2023-11-20T17:39:50.301862Z"
    }
   },
   "id": "ebd47e91d2a9abfd"
  },
  {
   "cell_type": "code",
   "execution_count": 18,
   "outputs": [
    {
     "data": {
      "text/plain": "      Date  rain\n0    01-01   0.0\n1    01-02   0.0\n2    01-03   0.0\n3    01-04   0.0\n4    01-05   1.5\n..     ...   ...\n360  12-27   0.0\n361  12-28   0.0\n362  12-29   0.0\n363  12-30   0.0\n364  12-31   0.0\n\n[365 rows x 2 columns]",
      "text/html": "<div>\n<style scoped>\n    .dataframe tbody tr th:only-of-type {\n        vertical-align: middle;\n    }\n\n    .dataframe tbody tr th {\n        vertical-align: top;\n    }\n\n    .dataframe thead th {\n        text-align: right;\n    }\n</style>\n<table border=\"1\" class=\"dataframe\">\n  <thead>\n    <tr style=\"text-align: right;\">\n      <th></th>\n      <th>Date</th>\n      <th>rain</th>\n    </tr>\n  </thead>\n  <tbody>\n    <tr>\n      <th>0</th>\n      <td>01-01</td>\n      <td>0.0</td>\n    </tr>\n    <tr>\n      <th>1</th>\n      <td>01-02</td>\n      <td>0.0</td>\n    </tr>\n    <tr>\n      <th>2</th>\n      <td>01-03</td>\n      <td>0.0</td>\n    </tr>\n    <tr>\n      <th>3</th>\n      <td>01-04</td>\n      <td>0.0</td>\n    </tr>\n    <tr>\n      <th>4</th>\n      <td>01-05</td>\n      <td>1.5</td>\n    </tr>\n    <tr>\n      <th>...</th>\n      <td>...</td>\n      <td>...</td>\n    </tr>\n    <tr>\n      <th>360</th>\n      <td>12-27</td>\n      <td>0.0</td>\n    </tr>\n    <tr>\n      <th>361</th>\n      <td>12-28</td>\n      <td>0.0</td>\n    </tr>\n    <tr>\n      <th>362</th>\n      <td>12-29</td>\n      <td>0.0</td>\n    </tr>\n    <tr>\n      <th>363</th>\n      <td>12-30</td>\n      <td>0.0</td>\n    </tr>\n    <tr>\n      <th>364</th>\n      <td>12-31</td>\n      <td>0.0</td>\n    </tr>\n  </tbody>\n</table>\n<p>365 rows × 2 columns</p>\n</div>"
     },
     "execution_count": 18,
     "metadata": {},
     "output_type": "execute_result"
    }
   ],
   "source": [
    "data_2022['Date'] = pd.to_datetime(data_2022['Date'], format='%m-%d')\n",
    "\n",
    "start_date = data_2022['Date'].min()\n",
    "end_date = data_2022['Date'].max()\n",
    "\n",
    "# 调整日期范围的起始和结束\n",
    "start_date_adjusted = start_date - pd.DateOffset(days=4)\n",
    "end_date_adjusted = end_date + pd.DateOffset(days=14)\n",
    "\n",
    "full_date_range = pd.date_range(start=start_date_adjusted, end=end_date_adjusted, freq='D')\n",
    "\n",
    "# 创建包含日期范围的新 DataFrame，并将其与原始 DataFrame 合并\n",
    "full_df = pd.DataFrame({'Date': full_date_range})\n",
    "data_2022_all = pd.merge(full_df, data_2022, on='Date', how='left')\n",
    "\n",
    "# 将缺失值填充为0\n",
    "data_2022_all['rain'] = data_2022_all['rain'].fillna(0)\n",
    "\n",
    "data_2022_all['Date'] = data_2022_all['Date'].dt.strftime('%m-%d')\n",
    "\n",
    "# 打印结果\n",
    "data_2022_all"
   ],
   "metadata": {
    "collapsed": false,
    "ExecuteTime": {
     "end_time": "2023-11-20T17:39:50.559518Z",
     "start_time": "2023-11-20T17:39:50.314313Z"
    }
   },
   "id": "617d531d8ff7c3bd"
  },
  {
   "cell_type": "code",
   "execution_count": 19,
   "outputs": [
    {
     "data": {
      "text/plain": "      Date  rain\n0    01-01   0.0\n1    01-02   0.5\n2    01-03   1.0\n3    01-04   0.0\n4    01-05   0.0\n..     ...   ...\n298  10-26   0.0\n299  10-27   0.0\n300  10-28  63.0\n301  10-29  61.0\n302  10-30   1.5\n\n[303 rows x 2 columns]",
      "text/html": "<div>\n<style scoped>\n    .dataframe tbody tr th:only-of-type {\n        vertical-align: middle;\n    }\n\n    .dataframe tbody tr th {\n        vertical-align: top;\n    }\n\n    .dataframe thead th {\n        text-align: right;\n    }\n</style>\n<table border=\"1\" class=\"dataframe\">\n  <thead>\n    <tr style=\"text-align: right;\">\n      <th></th>\n      <th>Date</th>\n      <th>rain</th>\n    </tr>\n  </thead>\n  <tbody>\n    <tr>\n      <th>0</th>\n      <td>01-01</td>\n      <td>0.0</td>\n    </tr>\n    <tr>\n      <th>1</th>\n      <td>01-02</td>\n      <td>0.5</td>\n    </tr>\n    <tr>\n      <th>2</th>\n      <td>01-03</td>\n      <td>1.0</td>\n    </tr>\n    <tr>\n      <th>3</th>\n      <td>01-04</td>\n      <td>0.0</td>\n    </tr>\n    <tr>\n      <th>4</th>\n      <td>01-05</td>\n      <td>0.0</td>\n    </tr>\n    <tr>\n      <th>...</th>\n      <td>...</td>\n      <td>...</td>\n    </tr>\n    <tr>\n      <th>298</th>\n      <td>10-26</td>\n      <td>0.0</td>\n    </tr>\n    <tr>\n      <th>299</th>\n      <td>10-27</td>\n      <td>0.0</td>\n    </tr>\n    <tr>\n      <th>300</th>\n      <td>10-28</td>\n      <td>63.0</td>\n    </tr>\n    <tr>\n      <th>301</th>\n      <td>10-29</td>\n      <td>61.0</td>\n    </tr>\n    <tr>\n      <th>302</th>\n      <td>10-30</td>\n      <td>1.5</td>\n    </tr>\n  </tbody>\n</table>\n<p>303 rows × 2 columns</p>\n</div>"
     },
     "execution_count": 19,
     "metadata": {},
     "output_type": "execute_result"
    }
   ],
   "source": [
    "data_2023['Date'] = pd.to_datetime(data_2023['Date'], format='%m-%d')\n",
    "\n",
    "start_date = data_2023['Date'].min()\n",
    "end_date = data_2023['Date'].max()\n",
    "\n",
    "# 调整日期范围的起始和结束\n",
    "start_date_adjusted = start_date - pd.DateOffset(days=1)\n",
    "end_date_adjusted = end_date + pd.DateOffset(days=0)\n",
    "\n",
    "full_date_range = pd.date_range(start=start_date_adjusted, end=end_date_adjusted, freq='D')\n",
    "\n",
    "# 创建包含日期范围的新 DataFrame，并将其与原始 DataFrame 合并\n",
    "full_df = pd.DataFrame({'Date': full_date_range})\n",
    "data_2023_all = pd.merge(full_df, data_2023, on='Date', how='left')\n",
    "\n",
    "# 将缺失值填充为0\n",
    "data_2023_all['rain'] = data_2023_all['rain'].fillna(0)\n",
    "\n",
    "data_2023_all['Date'] = data_2023_all['Date'].dt.strftime('%m-%d')\n",
    "\n",
    "# 打印结果\n",
    "data_2023_all"
   ],
   "metadata": {
    "collapsed": false,
    "ExecuteTime": {
     "end_time": "2023-11-20T17:39:50.559955Z",
     "start_time": "2023-11-20T17:39:50.326428Z"
    }
   },
   "id": "edcd443f1b316ac8"
  },
  {
   "cell_type": "code",
   "execution_count": 20,
   "outputs": [],
   "source": [
    "merged_df = pd.concat([data_2020_all, data_2021_all, data_2022_all, data_2023_all], ignore_index=True)\n",
    "daily_avg_rain = merged_df.groupby(['Date'])['rain'].mean().reset_index()"
   ],
   "metadata": {
    "collapsed": false,
    "ExecuteTime": {
     "end_time": "2023-11-20T17:39:50.560044Z",
     "start_time": "2023-11-20T17:39:50.336148Z"
    }
   },
   "id": "1b43ef6ee42cc17c"
  },
  {
   "cell_type": "code",
   "execution_count": 21,
   "outputs": [
    {
     "data": {
      "text/plain": "      Date   rain\n0    01-01  0.000\n1    01-02  0.125\n2    01-03  0.250\n3    01-04  0.000\n4    01-05  0.375\n..     ...    ...\n360  12-27  0.000\n361  12-28  0.000\n362  12-29  0.000\n363  12-30  0.000\n364  12-31  0.000\n\n[365 rows x 2 columns]",
      "text/html": "<div>\n<style scoped>\n    .dataframe tbody tr th:only-of-type {\n        vertical-align: middle;\n    }\n\n    .dataframe tbody tr th {\n        vertical-align: top;\n    }\n\n    .dataframe thead th {\n        text-align: right;\n    }\n</style>\n<table border=\"1\" class=\"dataframe\">\n  <thead>\n    <tr style=\"text-align: right;\">\n      <th></th>\n      <th>Date</th>\n      <th>rain</th>\n    </tr>\n  </thead>\n  <tbody>\n    <tr>\n      <th>0</th>\n      <td>01-01</td>\n      <td>0.000</td>\n    </tr>\n    <tr>\n      <th>1</th>\n      <td>01-02</td>\n      <td>0.125</td>\n    </tr>\n    <tr>\n      <th>2</th>\n      <td>01-03</td>\n      <td>0.250</td>\n    </tr>\n    <tr>\n      <th>3</th>\n      <td>01-04</td>\n      <td>0.000</td>\n    </tr>\n    <tr>\n      <th>4</th>\n      <td>01-05</td>\n      <td>0.375</td>\n    </tr>\n    <tr>\n      <th>...</th>\n      <td>...</td>\n      <td>...</td>\n    </tr>\n    <tr>\n      <th>360</th>\n      <td>12-27</td>\n      <td>0.000</td>\n    </tr>\n    <tr>\n      <th>361</th>\n      <td>12-28</td>\n      <td>0.000</td>\n    </tr>\n    <tr>\n      <th>362</th>\n      <td>12-29</td>\n      <td>0.000</td>\n    </tr>\n    <tr>\n      <th>363</th>\n      <td>12-30</td>\n      <td>0.000</td>\n    </tr>\n    <tr>\n      <th>364</th>\n      <td>12-31</td>\n      <td>0.000</td>\n    </tr>\n  </tbody>\n</table>\n<p>365 rows × 2 columns</p>\n</div>"
     },
     "execution_count": 21,
     "metadata": {},
     "output_type": "execute_result"
    }
   ],
   "source": [
    "daily_avg_rain"
   ],
   "metadata": {
    "collapsed": false,
    "ExecuteTime": {
     "end_time": "2023-11-20T17:39:50.560363Z",
     "start_time": "2023-11-20T17:39:50.340511Z"
    }
   },
   "id": "b2d0182fce669578"
  },
  {
   "cell_type": "markdown",
   "source": [
    "### Temperature"
   ],
   "metadata": {
    "collapsed": false
   },
   "id": "40577515ce84d411"
  },
  {
   "cell_type": "code",
   "execution_count": 22,
   "outputs": [
    {
     "data": {
      "text/plain": "            Time  Temperature  Relative Humidity        THI\n0     2019-07-31    26.095238          91.500000  67.542682\n1     2019-08-01    26.515152          93.545455  67.889060\n2     2019-08-02    26.906250          91.500000  68.206948\n3     2019-08-03    26.642857          91.750000  67.991516\n4     2019-08-04    27.750000          82.875000  68.886667\n...          ...          ...                ...        ...\n1561  2023-11-08    25.000000          76.958333  66.630421\n1562  2023-11-09    25.625000          81.083333  67.145999\n1563  2023-11-10    26.958333          82.291667  68.238199\n1564  2023-11-11    25.208333          84.750000  66.809062\n1565  2023-11-12    24.260870          77.391304  66.026515\n\n[1566 rows x 4 columns]",
      "text/html": "<div>\n<style scoped>\n    .dataframe tbody tr th:only-of-type {\n        vertical-align: middle;\n    }\n\n    .dataframe tbody tr th {\n        vertical-align: top;\n    }\n\n    .dataframe thead th {\n        text-align: right;\n    }\n</style>\n<table border=\"1\" class=\"dataframe\">\n  <thead>\n    <tr style=\"text-align: right;\">\n      <th></th>\n      <th>Time</th>\n      <th>Temperature</th>\n      <th>Relative Humidity</th>\n      <th>THI</th>\n    </tr>\n  </thead>\n  <tbody>\n    <tr>\n      <th>0</th>\n      <td>2019-07-31</td>\n      <td>26.095238</td>\n      <td>91.500000</td>\n      <td>67.542682</td>\n    </tr>\n    <tr>\n      <th>1</th>\n      <td>2019-08-01</td>\n      <td>26.515152</td>\n      <td>93.545455</td>\n      <td>67.889060</td>\n    </tr>\n    <tr>\n      <th>2</th>\n      <td>2019-08-02</td>\n      <td>26.906250</td>\n      <td>91.500000</td>\n      <td>68.206948</td>\n    </tr>\n    <tr>\n      <th>3</th>\n      <td>2019-08-03</td>\n      <td>26.642857</td>\n      <td>91.750000</td>\n      <td>67.991516</td>\n    </tr>\n    <tr>\n      <th>4</th>\n      <td>2019-08-04</td>\n      <td>27.750000</td>\n      <td>82.875000</td>\n      <td>68.886667</td>\n    </tr>\n    <tr>\n      <th>...</th>\n      <td>...</td>\n      <td>...</td>\n      <td>...</td>\n      <td>...</td>\n    </tr>\n    <tr>\n      <th>1561</th>\n      <td>2023-11-08</td>\n      <td>25.000000</td>\n      <td>76.958333</td>\n      <td>66.630421</td>\n    </tr>\n    <tr>\n      <th>1562</th>\n      <td>2023-11-09</td>\n      <td>25.625000</td>\n      <td>81.083333</td>\n      <td>67.145999</td>\n    </tr>\n    <tr>\n      <th>1563</th>\n      <td>2023-11-10</td>\n      <td>26.958333</td>\n      <td>82.291667</td>\n      <td>68.238199</td>\n    </tr>\n    <tr>\n      <th>1564</th>\n      <td>2023-11-11</td>\n      <td>25.208333</td>\n      <td>84.750000</td>\n      <td>66.809062</td>\n    </tr>\n    <tr>\n      <th>1565</th>\n      <td>2023-11-12</td>\n      <td>24.260870</td>\n      <td>77.391304</td>\n      <td>66.026515</td>\n    </tr>\n  </tbody>\n</table>\n<p>1566 rows × 4 columns</p>\n</div>"
     },
     "execution_count": 22,
     "metadata": {},
     "output_type": "execute_result"
    }
   ],
   "source": [
    "dataset = pd.read_csv(\"/Users/lyu/School/SemeterA/Big_Data/final_project/2019-2023full_data/data_info_main_par.csv\")\n",
    "dataset[\"Time\"] = pd.to_datetime(dataset[\"Time\"])\n",
    "# 根据日期（天）对数据进行分组，并计算每一天的平均气温\n",
    "daily_average = dataset.groupby(dataset[\"Time\"].dt.date).agg({\"Temperature\": \"mean\", \"Relative Humidity\": \"mean\"}).reset_index()\n",
    "\n",
    "# 创建一个新的DataFrame，包含日期和对应的平均气温\n",
    "new_data = pd.DataFrame({\"Time\": daily_average[\"Time\"], \"Temperature\": daily_average[\"Temperature\"],\"Relative Humidity\": daily_average[\"Relative Humidity\"]})\n",
    "new_data[\"THI\"] = 0.81 * new_data[\"Temperature\"] + 0.01 * 0.01 * new_data[\"Relative Humidity\"] * (0.99 * new_data[\"Temperature\"] - 14.3) + 46.3\n",
    "# 将Time列转换为日期类型\n",
    "new_data['Time'] = pd.to_datetime(new_data['Time']).dt.date\n",
    "new_data"
   ],
   "metadata": {
    "collapsed": false,
    "ExecuteTime": {
     "end_time": "2023-11-20T17:39:50.560763Z",
     "start_time": "2023-11-20T17:39:50.348716Z"
    }
   },
   "id": "3a26226a11ece1f4"
  },
  {
   "cell_type": "code",
   "execution_count": 23,
   "outputs": [],
   "source": [
    "data_2020 = new_data[new_data[\"Time\"].astype(str).str[:4] == '2020']\n",
    "new_data_2020 = pd.DataFrame({\"Date\": data_2020[\"Time\"], \"Temperature\": data_2020[\"Temperature\"],\n",
    "                              \"Relative Humidity\": data_2020[\"Relative Humidity\"]}).reset_index()\n",
    "# new_data_2020.drop(\"index\")\n",
    "new_data_2020[\"Date\"] = new_data_2020[\"Date\"].astype(str).str[-5:]\n",
    "new_data_2020.drop(59, inplace=True)\n",
    "data_2021 = new_data[new_data[\"Time\"].astype(str).str[:4] == '2021']\n",
    "new_data_2021 = pd.DataFrame({\"Date\": data_2021[\"Time\"], \"Temperature\": data_2021[\"Temperature\"],\n",
    "                              \"Relative Humidity\": data_2021[\"Relative Humidity\"]}).reset_index()\n",
    "# new_data_2020.drop(\"index\")\n",
    "new_data_2021[\"Date\"] = new_data_2021[\"Date\"].astype(str).str[-5:]\n",
    "data_2022 = new_data[new_data[\"Time\"].astype(str).str[:4] == '2022']\n",
    "new_data_2022 = pd.DataFrame({\"Date\": data_2022[\"Time\"], \"Temperature\": data_2022[\"Temperature\"],\n",
    "                              \"Relative Humidity\": data_2022[\"Relative Humidity\"]}).reset_index()\n",
    "# new_data_2020.drop(\"index\")\n",
    "new_data_2022[\"Date\"] = new_data_2022[\"Date\"].astype(str).str[-5:]\n",
    "data_2023 = new_data[new_data[\"Time\"].astype(str).str[:4] == '2023']\n",
    "new_data_2023 = pd.DataFrame({\"Date\": data_2023[\"Time\"], \"Temperature\": data_2023[\"Temperature\"],\n",
    "                              \"Relative Humidity\": data_2023[\"Relative Humidity\"]}).reset_index()\n",
    "# new_data_2020.drop(\"index\")\n",
    "new_data_2023[\"Date\"] = new_data_2023[\"Date\"].astype(str).str[-5:]"
   ],
   "metadata": {
    "collapsed": false,
    "ExecuteTime": {
     "end_time": "2023-11-20T17:39:50.560910Z",
     "start_time": "2023-11-20T17:39:50.417975Z"
    }
   },
   "id": "c73bdbed6c83af70"
  },
  {
   "cell_type": "code",
   "execution_count": 24,
   "outputs": [],
   "source": [
    "merged_df = pd.concat([new_data_2020, new_data_2021, new_data_2022, new_data_2023], ignore_index=True)\n",
    "daily_avg_temperature = merged_df.groupby(['Date'])['Temperature'].mean().reset_index()"
   ],
   "metadata": {
    "collapsed": false,
    "ExecuteTime": {
     "end_time": "2023-11-20T17:39:50.560992Z",
     "start_time": "2023-11-20T17:39:50.436991Z"
    }
   },
   "id": "76c7861c8aa75aff"
  },
  {
   "cell_type": "code",
   "execution_count": 25,
   "outputs": [
    {
     "data": {
      "text/plain": "      Date  Temperature\n0    01-01    15.987319\n1    01-02    17.322917\n2    01-03    17.776721\n3    01-04    18.427083\n4    01-05    19.395833\n..     ...          ...\n360  12-27    16.069444\n361  12-28    17.722222\n362  12-29    19.068841\n363  12-30    16.138889\n364  12-31    14.736111\n\n[365 rows x 2 columns]",
      "text/html": "<div>\n<style scoped>\n    .dataframe tbody tr th:only-of-type {\n        vertical-align: middle;\n    }\n\n    .dataframe tbody tr th {\n        vertical-align: top;\n    }\n\n    .dataframe thead th {\n        text-align: right;\n    }\n</style>\n<table border=\"1\" class=\"dataframe\">\n  <thead>\n    <tr style=\"text-align: right;\">\n      <th></th>\n      <th>Date</th>\n      <th>Temperature</th>\n    </tr>\n  </thead>\n  <tbody>\n    <tr>\n      <th>0</th>\n      <td>01-01</td>\n      <td>15.987319</td>\n    </tr>\n    <tr>\n      <th>1</th>\n      <td>01-02</td>\n      <td>17.322917</td>\n    </tr>\n    <tr>\n      <th>2</th>\n      <td>01-03</td>\n      <td>17.776721</td>\n    </tr>\n    <tr>\n      <th>3</th>\n      <td>01-04</td>\n      <td>18.427083</td>\n    </tr>\n    <tr>\n      <th>4</th>\n      <td>01-05</td>\n      <td>19.395833</td>\n    </tr>\n    <tr>\n      <th>...</th>\n      <td>...</td>\n      <td>...</td>\n    </tr>\n    <tr>\n      <th>360</th>\n      <td>12-27</td>\n      <td>16.069444</td>\n    </tr>\n    <tr>\n      <th>361</th>\n      <td>12-28</td>\n      <td>17.722222</td>\n    </tr>\n    <tr>\n      <th>362</th>\n      <td>12-29</td>\n      <td>19.068841</td>\n    </tr>\n    <tr>\n      <th>363</th>\n      <td>12-30</td>\n      <td>16.138889</td>\n    </tr>\n    <tr>\n      <th>364</th>\n      <td>12-31</td>\n      <td>14.736111</td>\n    </tr>\n  </tbody>\n</table>\n<p>365 rows × 2 columns</p>\n</div>"
     },
     "execution_count": 25,
     "metadata": {},
     "output_type": "execute_result"
    }
   ],
   "source": [
    "daily_avg_temperature"
   ],
   "metadata": {
    "collapsed": false,
    "ExecuteTime": {
     "end_time": "2023-11-20T17:39:50.682662Z",
     "start_time": "2023-11-20T17:39:50.442210Z"
    }
   },
   "id": "3f5f08599b5e3dac"
  },
  {
   "cell_type": "markdown",
   "source": [
    "### UV"
   ],
   "metadata": {
    "collapsed": false
   },
   "id": "ca62d5f8a9a2f870"
  },
  {
   "cell_type": "code",
   "execution_count": 26,
   "outputs": [
    {
     "data": {
      "text/plain": "                     Time   UV Intensity\n1867  2020-01-01 08:02:00  0.0       low\n1868  2020-01-01 09:02:00  0.1       low\n1869  2020-01-01 09:41:00  0.1       low\n1870  2020-01-01 10:02:00  1.0       low\n1871  2020-01-01 11:02:00  2.0       low\n...                   ...  ...       ...\n5766  2020-12-31 14:02:00  5.0  moderate\n5767  2020-12-31 15:02:00  3.0  moderate\n5768  2020-12-31 16:31:00  2.0       low\n5769  2020-12-31 17:02:00  0.6       low\n5770  2020-12-31 18:02:00  0.1       low\n\n[3904 rows x 3 columns]",
      "text/html": "<div>\n<style scoped>\n    .dataframe tbody tr th:only-of-type {\n        vertical-align: middle;\n    }\n\n    .dataframe tbody tr th {\n        vertical-align: top;\n    }\n\n    .dataframe thead th {\n        text-align: right;\n    }\n</style>\n<table border=\"1\" class=\"dataframe\">\n  <thead>\n    <tr style=\"text-align: right;\">\n      <th></th>\n      <th>Time</th>\n      <th>UV</th>\n      <th>Intensity</th>\n    </tr>\n  </thead>\n  <tbody>\n    <tr>\n      <th>1867</th>\n      <td>2020-01-01 08:02:00</td>\n      <td>0.0</td>\n      <td>low</td>\n    </tr>\n    <tr>\n      <th>1868</th>\n      <td>2020-01-01 09:02:00</td>\n      <td>0.1</td>\n      <td>low</td>\n    </tr>\n    <tr>\n      <th>1869</th>\n      <td>2020-01-01 09:41:00</td>\n      <td>0.1</td>\n      <td>low</td>\n    </tr>\n    <tr>\n      <th>1870</th>\n      <td>2020-01-01 10:02:00</td>\n      <td>1.0</td>\n      <td>low</td>\n    </tr>\n    <tr>\n      <th>1871</th>\n      <td>2020-01-01 11:02:00</td>\n      <td>2.0</td>\n      <td>low</td>\n    </tr>\n    <tr>\n      <th>...</th>\n      <td>...</td>\n      <td>...</td>\n      <td>...</td>\n    </tr>\n    <tr>\n      <th>5766</th>\n      <td>2020-12-31 14:02:00</td>\n      <td>5.0</td>\n      <td>moderate</td>\n    </tr>\n    <tr>\n      <th>5767</th>\n      <td>2020-12-31 15:02:00</td>\n      <td>3.0</td>\n      <td>moderate</td>\n    </tr>\n    <tr>\n      <th>5768</th>\n      <td>2020-12-31 16:31:00</td>\n      <td>2.0</td>\n      <td>low</td>\n    </tr>\n    <tr>\n      <th>5769</th>\n      <td>2020-12-31 17:02:00</td>\n      <td>0.6</td>\n      <td>low</td>\n    </tr>\n    <tr>\n      <th>5770</th>\n      <td>2020-12-31 18:02:00</td>\n      <td>0.1</td>\n      <td>low</td>\n    </tr>\n  </tbody>\n</table>\n<p>3904 rows × 3 columns</p>\n</div>"
     },
     "execution_count": 26,
     "metadata": {},
     "output_type": "execute_result"
    }
   ],
   "source": [
    "data = pd.read_csv(\"/Users/lyu/School/SemeterA/Big_Data/final_project/2019-2023full_data/data_info_uv_par.csv\")\n",
    "\n",
    "data_2020 = data[data[\"Time\"].str.startswith(\"2020\")]\n",
    "data_2020"
   ],
   "metadata": {
    "collapsed": false,
    "ExecuteTime": {
     "end_time": "2023-11-20T17:39:50.683858Z",
     "start_time": "2023-11-20T17:39:50.453830Z"
    }
   },
   "id": "4f7a62c1e6d01789"
  },
  {
   "cell_type": "code",
   "execution_count": 27,
   "outputs": [
    {
     "name": "stderr",
     "output_type": "stream",
     "text": [
      "/var/folders/1y/4b73j19n3tn6q7jnly7bx_600000gn/T/ipykernel_20265/134544593.py:1: SettingWithCopyWarning: \n",
      "A value is trying to be set on a copy of a slice from a DataFrame.\n",
      "Try using .loc[row_indexer,col_indexer] = value instead\n",
      "\n",
      "See the caveats in the documentation: https://pandas.pydata.org/pandas-docs/stable/user_guide/indexing.html#returning-a-view-versus-a-copy\n",
      "  data_2020[\"Time\"] = pd.to_datetime(data_2020[\"Time\"])\n",
      "/var/folders/1y/4b73j19n3tn6q7jnly7bx_600000gn/T/ipykernel_20265/134544593.py:10: SettingWithCopyWarning: \n",
      "A value is trying to be set on a copy of a slice from a DataFrame.\n",
      "Try using .loc[row_indexer,col_indexer] = value instead\n",
      "\n",
      "See the caveats in the documentation: https://pandas.pydata.org/pandas-docs/stable/user_guide/indexing.html#returning-a-view-versus-a-copy\n",
      "  data_2021[\"Time\"] = pd.to_datetime(data_2021[\"Time\"])\n",
      "/var/folders/1y/4b73j19n3tn6q7jnly7bx_600000gn/T/ipykernel_20265/134544593.py:18: SettingWithCopyWarning: \n",
      "A value is trying to be set on a copy of a slice from a DataFrame.\n",
      "Try using .loc[row_indexer,col_indexer] = value instead\n",
      "\n",
      "See the caveats in the documentation: https://pandas.pydata.org/pandas-docs/stable/user_guide/indexing.html#returning-a-view-versus-a-copy\n",
      "  data_2022[\"Time\"] = pd.to_datetime(data_2022[\"Time\"])\n",
      "/var/folders/1y/4b73j19n3tn6q7jnly7bx_600000gn/T/ipykernel_20265/134544593.py:26: SettingWithCopyWarning: \n",
      "A value is trying to be set on a copy of a slice from a DataFrame.\n",
      "Try using .loc[row_indexer,col_indexer] = value instead\n",
      "\n",
      "See the caveats in the documentation: https://pandas.pydata.org/pandas-docs/stable/user_guide/indexing.html#returning-a-view-versus-a-copy\n",
      "  data_2023[\"Time\"] = pd.to_datetime(data_2023[\"Time\"])\n"
     ]
    }
   ],
   "source": [
    "data_2020[\"Time\"] = pd.to_datetime(data_2020[\"Time\"])\n",
    "# 根据日期（天）对数据进行分组，取一天的紫外线强度峰值\n",
    "daily_average = data_2020.groupby(data_2020[\"Time\"].dt.date)[\"UV\"].max()\n",
    "\n",
    "new_data_2020 = pd.DataFrame({\"Time\": daily_average.index, \"UV\": daily_average.values})\n",
    "new_data_2020[\"Time\"] = new_data_2020[\"Time\"].astype(str).str[-5:]\n",
    "new_data_2020.drop(59, inplace=True)\n",
    "data_2021 = data[data[\"Time\"].str.startswith(\"2021\")]\n",
    "\n",
    "data_2021[\"Time\"] = pd.to_datetime(data_2021[\"Time\"])\n",
    "# 根据日期（天）对数据进行分组，取一天的紫外线强度峰值\n",
    "daily_average = data_2021.groupby(data_2021[\"Time\"].dt.date)[\"UV\"].max()\n",
    "\n",
    "new_data_2021 = pd.DataFrame({\"Time\": daily_average.index, \"UV\": daily_average.values})\n",
    "new_data_2021[\"Time\"] = new_data_2021[\"Time\"].astype(str).str[-5:]\n",
    "data_2022 = data[data[\"Time\"].str.startswith(\"2022\")]\n",
    "\n",
    "data_2022[\"Time\"] = pd.to_datetime(data_2022[\"Time\"])\n",
    "# 根据日期（天）对数据进行分组，取一天的紫外线强度峰值\n",
    "daily_average = data_2022.groupby(data_2022[\"Time\"].dt.date)[\"UV\"].max()\n",
    "\n",
    "new_data_2022 = pd.DataFrame({\"Time\": daily_average.index, \"UV\": daily_average.values})\n",
    "new_data_2022[\"Time\"] = new_data_2022[\"Time\"].astype(str).str[-5:]\n",
    "data_2023 = data[data[\"Time\"].str.startswith(\"2023\")]\n",
    "\n",
    "data_2023[\"Time\"] = pd.to_datetime(data_2023[\"Time\"])\n",
    "# 根据日期（天）对数据进行分组，取一天的紫外线强度峰值\n",
    "daily_average = data_2023.groupby(data_2023[\"Time\"].dt.date)[\"UV\"].max()\n",
    "\n",
    "new_data_2023 = pd.DataFrame({\"Time\": daily_average.index, \"UV\": daily_average.values})\n",
    "new_data_2023[\"Time\"] = new_data_2023[\"Time\"].astype(str).str[-5:]"
   ],
   "metadata": {
    "collapsed": false,
    "ExecuteTime": {
     "end_time": "2023-11-20T17:39:51.527718Z",
     "start_time": "2023-11-20T17:39:50.488660Z"
    }
   },
   "id": "7e477fa4d6f07a74"
  },
  {
   "cell_type": "code",
   "execution_count": 28,
   "outputs": [],
   "source": [
    "merged_df = pd.concat([new_data_2020, new_data_2021, new_data_2022, new_data_2023], ignore_index=True)\n",
    "daily_avg_uv = merged_df.groupby(['Time'])['UV'].mean().reset_index()\n",
    "daily_avg_uv = daily_avg_uv.rename(columns={'Time':'Date'})"
   ],
   "metadata": {
    "collapsed": false,
    "ExecuteTime": {
     "end_time": "2023-11-20T17:39:51.655411Z",
     "start_time": "2023-11-20T17:39:50.549876Z"
    }
   },
   "id": "a8b0eb10603c5f54"
  },
  {
   "cell_type": "markdown",
   "source": [
    "### Normalized"
   ],
   "metadata": {
    "collapsed": false
   },
   "id": "3bc9e8839ce0ff6d"
  },
  {
   "cell_type": "code",
   "execution_count": 29,
   "outputs": [],
   "source": [
    "from sklearn.preprocessing import MinMaxScaler"
   ],
   "metadata": {
    "collapsed": false,
    "ExecuteTime": {
     "end_time": "2023-11-20T17:39:51.783087Z",
     "start_time": "2023-11-20T17:39:50.557039Z"
    }
   },
   "id": "961700885e815783"
  },
  {
   "cell_type": "code",
   "execution_count": 30,
   "outputs": [],
   "source": [
    "scaler = MinMaxScaler()\n",
    "data_to_normalize_humidity = daily_avg_humidity[['Relative Humidity']]\n",
    "data_to_normalize_rain = daily_avg_rain[['rain']]\n",
    "data_to_normalize_temperature = daily_avg_temperature[['Temperature']]\n",
    "data_to_normalize_uv = daily_avg_uv[['UV']]\n",
    "\n",
    "normalized_data_humidity = scaler.fit_transform(data_to_normalize_humidity)\n",
    "normalized_data_rain = scaler.fit_transform(data_to_normalize_rain)\n",
    "normalized_data_temperature = scaler.fit_transform(data_to_normalize_temperature)\n",
    "normalized_data_uv = scaler.fit_transform(data_to_normalize_uv)"
   ],
   "metadata": {
    "collapsed": false,
    "ExecuteTime": {
     "end_time": "2023-11-20T17:39:51.882481Z",
     "start_time": "2023-11-20T17:39:50.702133Z"
    }
   },
   "id": "494d6b78fb8460a7"
  },
  {
   "cell_type": "code",
   "execution_count": 31,
   "outputs": [],
   "source": [
    "daily_avg_humidity['Relative Humidity'] = normalized_data_humidity\n",
    "daily_avg_rain['rain'] = normalized_data_rain\n",
    "daily_avg_temperature['Temperature'] = normalized_data_temperature\n",
    "daily_avg_uv['UV'] = normalized_data_uv"
   ],
   "metadata": {
    "collapsed": false,
    "ExecuteTime": {
     "end_time": "2023-11-20T17:39:51.985785Z",
     "start_time": "2023-11-20T17:39:50.715462Z"
    }
   },
   "id": "91bee543bd83e4ed"
  },
  {
   "cell_type": "markdown",
   "source": [
    "### Outdoor index"
   ],
   "metadata": {
    "collapsed": false
   },
   "id": "6205ec63465eecd9"
  },
  {
   "cell_type": "code",
   "execution_count": 32,
   "outputs": [],
   "source": [
    "humidity_weight = 0.25\n",
    "rain_weight = 0.25\n",
    "temperature_weight = 0.4\n",
    "uv_weight = 0.1"
   ],
   "metadata": {
    "collapsed": false,
    "ExecuteTime": {
     "end_time": "2023-11-20T17:39:51.986219Z",
     "start_time": "2023-11-20T17:39:50.724357Z"
    }
   },
   "id": "4f0d56765e3033ba"
  },
  {
   "cell_type": "code",
   "execution_count": 33,
   "outputs": [],
   "source": [
    "# 湿度函数\n",
    "def humidity_index(x):\n",
    "    return -(np.square(x)) + 1"
   ],
   "metadata": {
    "collapsed": false,
    "ExecuteTime": {
     "end_time": "2023-11-20T17:39:51.986344Z",
     "start_time": "2023-11-20T17:39:50.739701Z"
    }
   },
   "id": "f32d954db77e33ee"
  },
  {
   "cell_type": "code",
   "execution_count": 34,
   "outputs": [],
   "source": [
    "daily_avg_humidity['Relative Humidity'] = daily_avg_humidity['Relative Humidity'].apply(humidity_index)"
   ],
   "metadata": {
    "collapsed": false,
    "ExecuteTime": {
     "end_time": "2023-11-20T17:39:51.986411Z",
     "start_time": "2023-11-20T17:39:50.745579Z"
    }
   },
   "id": "df2a58951f97cc6b"
  },
  {
   "cell_type": "code",
   "execution_count": 35,
   "outputs": [
    {
     "data": {
      "text/plain": "      Date  Relative Humidity\n0    01-01           0.868335\n1    01-02           0.816327\n2    01-03           0.660205\n3    01-04           0.626504\n4    01-05           0.635184\n..     ...                ...\n360  12-27           0.655375\n361  12-28           0.745600\n362  12-29           0.779403\n363  12-30           0.897112\n364  12-31           0.952849\n\n[365 rows x 2 columns]",
      "text/html": "<div>\n<style scoped>\n    .dataframe tbody tr th:only-of-type {\n        vertical-align: middle;\n    }\n\n    .dataframe tbody tr th {\n        vertical-align: top;\n    }\n\n    .dataframe thead th {\n        text-align: right;\n    }\n</style>\n<table border=\"1\" class=\"dataframe\">\n  <thead>\n    <tr style=\"text-align: right;\">\n      <th></th>\n      <th>Date</th>\n      <th>Relative Humidity</th>\n    </tr>\n  </thead>\n  <tbody>\n    <tr>\n      <th>0</th>\n      <td>01-01</td>\n      <td>0.868335</td>\n    </tr>\n    <tr>\n      <th>1</th>\n      <td>01-02</td>\n      <td>0.816327</td>\n    </tr>\n    <tr>\n      <th>2</th>\n      <td>01-03</td>\n      <td>0.660205</td>\n    </tr>\n    <tr>\n      <th>3</th>\n      <td>01-04</td>\n      <td>0.626504</td>\n    </tr>\n    <tr>\n      <th>4</th>\n      <td>01-05</td>\n      <td>0.635184</td>\n    </tr>\n    <tr>\n      <th>...</th>\n      <td>...</td>\n      <td>...</td>\n    </tr>\n    <tr>\n      <th>360</th>\n      <td>12-27</td>\n      <td>0.655375</td>\n    </tr>\n    <tr>\n      <th>361</th>\n      <td>12-28</td>\n      <td>0.745600</td>\n    </tr>\n    <tr>\n      <th>362</th>\n      <td>12-29</td>\n      <td>0.779403</td>\n    </tr>\n    <tr>\n      <th>363</th>\n      <td>12-30</td>\n      <td>0.897112</td>\n    </tr>\n    <tr>\n      <th>364</th>\n      <td>12-31</td>\n      <td>0.952849</td>\n    </tr>\n  </tbody>\n</table>\n<p>365 rows × 2 columns</p>\n</div>"
     },
     "execution_count": 35,
     "metadata": {},
     "output_type": "execute_result"
    }
   ],
   "source": [
    "daily_avg_humidity"
   ],
   "metadata": {
    "collapsed": false,
    "ExecuteTime": {
     "end_time": "2023-11-20T17:39:51.986776Z",
     "start_time": "2023-11-20T17:39:50.771295Z"
    }
   },
   "id": "fdf41dc3f8075870"
  },
  {
   "cell_type": "code",
   "execution_count": 36,
   "outputs": [],
   "source": [
    "# 温度函数\n",
    "def temperature_index(x):\n",
    "    return -((x-0.5)**6)*64 + 1"
   ],
   "metadata": {
    "collapsed": false,
    "ExecuteTime": {
     "end_time": "2023-11-20T17:39:51.986837Z",
     "start_time": "2023-11-20T17:39:50.782383Z"
    }
   },
   "id": "d14c24dd258c2aa5"
  },
  {
   "cell_type": "code",
   "execution_count": 37,
   "outputs": [],
   "source": [
    "daily_avg_temperature['Temperature'] = daily_avg_temperature['Temperature'].apply(temperature_index)"
   ],
   "metadata": {
    "collapsed": false,
    "ExecuteTime": {
     "end_time": "2023-11-20T17:39:51.986891Z",
     "start_time": "2023-11-20T17:39:50.796636Z"
    }
   },
   "id": "ab2d7f5587dc3887"
  },
  {
   "cell_type": "code",
   "execution_count": 38,
   "outputs": [
    {
     "data": {
      "text/plain": "      Date  Temperature\n0    01-01     0.625155\n1    01-02     0.893863\n2    01-03     0.935443\n3    01-04     0.970790\n4    01-05     0.992926\n..     ...          ...\n360  12-27     0.650631\n361  12-28     0.931318\n362  12-29     0.988136\n363  12-30     0.671031\n364  12-31     0.000000\n\n[365 rows x 2 columns]",
      "text/html": "<div>\n<style scoped>\n    .dataframe tbody tr th:only-of-type {\n        vertical-align: middle;\n    }\n\n    .dataframe tbody tr th {\n        vertical-align: top;\n    }\n\n    .dataframe thead th {\n        text-align: right;\n    }\n</style>\n<table border=\"1\" class=\"dataframe\">\n  <thead>\n    <tr style=\"text-align: right;\">\n      <th></th>\n      <th>Date</th>\n      <th>Temperature</th>\n    </tr>\n  </thead>\n  <tbody>\n    <tr>\n      <th>0</th>\n      <td>01-01</td>\n      <td>0.625155</td>\n    </tr>\n    <tr>\n      <th>1</th>\n      <td>01-02</td>\n      <td>0.893863</td>\n    </tr>\n    <tr>\n      <th>2</th>\n      <td>01-03</td>\n      <td>0.935443</td>\n    </tr>\n    <tr>\n      <th>3</th>\n      <td>01-04</td>\n      <td>0.970790</td>\n    </tr>\n    <tr>\n      <th>4</th>\n      <td>01-05</td>\n      <td>0.992926</td>\n    </tr>\n    <tr>\n      <th>...</th>\n      <td>...</td>\n      <td>...</td>\n    </tr>\n    <tr>\n      <th>360</th>\n      <td>12-27</td>\n      <td>0.650631</td>\n    </tr>\n    <tr>\n      <th>361</th>\n      <td>12-28</td>\n      <td>0.931318</td>\n    </tr>\n    <tr>\n      <th>362</th>\n      <td>12-29</td>\n      <td>0.988136</td>\n    </tr>\n    <tr>\n      <th>363</th>\n      <td>12-30</td>\n      <td>0.671031</td>\n    </tr>\n    <tr>\n      <th>364</th>\n      <td>12-31</td>\n      <td>0.000000</td>\n    </tr>\n  </tbody>\n</table>\n<p>365 rows × 2 columns</p>\n</div>"
     },
     "execution_count": 38,
     "metadata": {},
     "output_type": "execute_result"
    }
   ],
   "source": [
    "daily_avg_temperature"
   ],
   "metadata": {
    "collapsed": false,
    "ExecuteTime": {
     "end_time": "2023-11-20T17:39:51.987151Z",
     "start_time": "2023-11-20T17:39:50.811591Z"
    }
   },
   "id": "7d1fb835c059352f"
  },
  {
   "cell_type": "code",
   "execution_count": 39,
   "outputs": [
    {
     "data": {
      "text/plain": "0.9450989883680887"
     },
     "execution_count": 39,
     "metadata": {},
     "output_type": "execute_result"
    }
   ],
   "source": [
    "daily_avg_temperature['Temperature'].median()"
   ],
   "metadata": {
    "collapsed": false,
    "ExecuteTime": {
     "end_time": "2023-11-20T17:39:51.987311Z",
     "start_time": "2023-11-20T17:39:50.822391Z"
    }
   },
   "id": "46268a04bfbca57"
  },
  {
   "cell_type": "code",
   "execution_count": 40,
   "outputs": [],
   "source": [
    "# 降雨函数\n",
    "def rain_index(x):\n",
    "    return -x**0.1 + 1"
   ],
   "metadata": {
    "collapsed": false,
    "ExecuteTime": {
     "end_time": "2023-11-20T17:39:51.987367Z",
     "start_time": "2023-11-20T17:39:50.856898Z"
    }
   },
   "id": "5f430be2d9cf2d25"
  },
  {
   "cell_type": "code",
   "execution_count": 41,
   "outputs": [],
   "source": [
    "daily_avg_rain['rain'] = daily_avg_rain['rain'].apply(rain_index)"
   ],
   "metadata": {
    "collapsed": false,
    "ExecuteTime": {
     "end_time": "2023-11-20T17:39:51.987440Z",
     "start_time": "2023-11-20T17:39:50.864547Z"
    }
   },
   "id": "c71505005430bc0"
  },
  {
   "cell_type": "code",
   "execution_count": 42,
   "outputs": [
    {
     "data": {
      "text/plain": "      Date      rain\n0    01-01  1.000000\n1    01-02  0.624180\n2    01-03  0.597206\n3    01-04  1.000000\n4    01-05  0.580539\n..     ...       ...\n360  12-27  1.000000\n361  12-28  1.000000\n362  12-29  1.000000\n363  12-30  1.000000\n364  12-31  1.000000\n\n[365 rows x 2 columns]",
      "text/html": "<div>\n<style scoped>\n    .dataframe tbody tr th:only-of-type {\n        vertical-align: middle;\n    }\n\n    .dataframe tbody tr th {\n        vertical-align: top;\n    }\n\n    .dataframe thead th {\n        text-align: right;\n    }\n</style>\n<table border=\"1\" class=\"dataframe\">\n  <thead>\n    <tr style=\"text-align: right;\">\n      <th></th>\n      <th>Date</th>\n      <th>rain</th>\n    </tr>\n  </thead>\n  <tbody>\n    <tr>\n      <th>0</th>\n      <td>01-01</td>\n      <td>1.000000</td>\n    </tr>\n    <tr>\n      <th>1</th>\n      <td>01-02</td>\n      <td>0.624180</td>\n    </tr>\n    <tr>\n      <th>2</th>\n      <td>01-03</td>\n      <td>0.597206</td>\n    </tr>\n    <tr>\n      <th>3</th>\n      <td>01-04</td>\n      <td>1.000000</td>\n    </tr>\n    <tr>\n      <th>4</th>\n      <td>01-05</td>\n      <td>0.580539</td>\n    </tr>\n    <tr>\n      <th>...</th>\n      <td>...</td>\n      <td>...</td>\n    </tr>\n    <tr>\n      <th>360</th>\n      <td>12-27</td>\n      <td>1.000000</td>\n    </tr>\n    <tr>\n      <th>361</th>\n      <td>12-28</td>\n      <td>1.000000</td>\n    </tr>\n    <tr>\n      <th>362</th>\n      <td>12-29</td>\n      <td>1.000000</td>\n    </tr>\n    <tr>\n      <th>363</th>\n      <td>12-30</td>\n      <td>1.000000</td>\n    </tr>\n    <tr>\n      <th>364</th>\n      <td>12-31</td>\n      <td>1.000000</td>\n    </tr>\n  </tbody>\n</table>\n<p>365 rows × 2 columns</p>\n</div>"
     },
     "execution_count": 42,
     "metadata": {},
     "output_type": "execute_result"
    }
   ],
   "source": [
    "daily_avg_rain"
   ],
   "metadata": {
    "collapsed": false,
    "ExecuteTime": {
     "end_time": "2023-11-20T17:39:51.987661Z",
     "start_time": "2023-11-20T17:39:50.880389Z"
    }
   },
   "id": "cf9b6e4b5e10f11b"
  },
  {
   "cell_type": "code",
   "execution_count": 43,
   "outputs": [],
   "source": [
    "# 紫外线函数\n",
    "def uv_index(x):\n",
    "    return -(np.square(x)) + 1"
   ],
   "metadata": {
    "collapsed": false,
    "ExecuteTime": {
     "end_time": "2023-11-20T17:39:51.987715Z",
     "start_time": "2023-11-20T17:39:50.907511Z"
    }
   },
   "id": "de46c2befb59a777"
  },
  {
   "cell_type": "code",
   "execution_count": 44,
   "outputs": [],
   "source": [
    "daily_avg_uv['UV'] = daily_avg_uv['UV'].apply(uv_index)"
   ],
   "metadata": {
    "collapsed": false,
    "ExecuteTime": {
     "end_time": "2023-11-20T17:39:51.987769Z",
     "start_time": "2023-11-20T17:39:50.933356Z"
    }
   },
   "id": "84795392fe2e2c66"
  },
  {
   "cell_type": "code",
   "execution_count": 45,
   "outputs": [],
   "source": [
    "daily_avg_data = pd.merge(daily_avg_humidity, daily_avg_temperature, on='Date', how='outer')\n",
    "daily_avg_data = pd.merge(daily_avg_data, daily_avg_rain, on='Date', how='outer')\n",
    "daily_avg_data = pd.merge(daily_avg_data, daily_avg_uv, on='Date', how='outer')"
   ],
   "metadata": {
    "collapsed": false,
    "ExecuteTime": {
     "end_time": "2023-11-20T17:39:51.987821Z",
     "start_time": "2023-11-20T17:39:50.953377Z"
    }
   },
   "id": "76c9dd45ab399f3f"
  },
  {
   "cell_type": "code",
   "execution_count": 46,
   "outputs": [
    {
     "data": {
      "text/plain": "      Date  Relative Humidity  Temperature      rain        UV\n0    01-01           0.868335     0.625155  1.000000  0.979592\n1    01-02           0.816327     0.893863  0.624180  0.918367\n2    01-03           0.660205     0.935443  0.597206  0.918367\n3    01-04           0.626504     0.970790  1.000000  0.901224\n4    01-05           0.635184     0.992926  0.580539  0.882449\n..     ...                ...          ...       ...       ...\n360  12-27           0.655375     0.650631  1.000000  0.966563\n361  12-28           0.745600     0.931318  1.000000  0.967942\n362  12-29           0.779403     0.988136  1.000000  0.882449\n363  12-30           0.897112     0.671031  1.000000  0.907120\n364  12-31           0.952849     0.000000  1.000000  0.907120\n\n[365 rows x 5 columns]",
      "text/html": "<div>\n<style scoped>\n    .dataframe tbody tr th:only-of-type {\n        vertical-align: middle;\n    }\n\n    .dataframe tbody tr th {\n        vertical-align: top;\n    }\n\n    .dataframe thead th {\n        text-align: right;\n    }\n</style>\n<table border=\"1\" class=\"dataframe\">\n  <thead>\n    <tr style=\"text-align: right;\">\n      <th></th>\n      <th>Date</th>\n      <th>Relative Humidity</th>\n      <th>Temperature</th>\n      <th>rain</th>\n      <th>UV</th>\n    </tr>\n  </thead>\n  <tbody>\n    <tr>\n      <th>0</th>\n      <td>01-01</td>\n      <td>0.868335</td>\n      <td>0.625155</td>\n      <td>1.000000</td>\n      <td>0.979592</td>\n    </tr>\n    <tr>\n      <th>1</th>\n      <td>01-02</td>\n      <td>0.816327</td>\n      <td>0.893863</td>\n      <td>0.624180</td>\n      <td>0.918367</td>\n    </tr>\n    <tr>\n      <th>2</th>\n      <td>01-03</td>\n      <td>0.660205</td>\n      <td>0.935443</td>\n      <td>0.597206</td>\n      <td>0.918367</td>\n    </tr>\n    <tr>\n      <th>3</th>\n      <td>01-04</td>\n      <td>0.626504</td>\n      <td>0.970790</td>\n      <td>1.000000</td>\n      <td>0.901224</td>\n    </tr>\n    <tr>\n      <th>4</th>\n      <td>01-05</td>\n      <td>0.635184</td>\n      <td>0.992926</td>\n      <td>0.580539</td>\n      <td>0.882449</td>\n    </tr>\n    <tr>\n      <th>...</th>\n      <td>...</td>\n      <td>...</td>\n      <td>...</td>\n      <td>...</td>\n      <td>...</td>\n    </tr>\n    <tr>\n      <th>360</th>\n      <td>12-27</td>\n      <td>0.655375</td>\n      <td>0.650631</td>\n      <td>1.000000</td>\n      <td>0.966563</td>\n    </tr>\n    <tr>\n      <th>361</th>\n      <td>12-28</td>\n      <td>0.745600</td>\n      <td>0.931318</td>\n      <td>1.000000</td>\n      <td>0.967942</td>\n    </tr>\n    <tr>\n      <th>362</th>\n      <td>12-29</td>\n      <td>0.779403</td>\n      <td>0.988136</td>\n      <td>1.000000</td>\n      <td>0.882449</td>\n    </tr>\n    <tr>\n      <th>363</th>\n      <td>12-30</td>\n      <td>0.897112</td>\n      <td>0.671031</td>\n      <td>1.000000</td>\n      <td>0.907120</td>\n    </tr>\n    <tr>\n      <th>364</th>\n      <td>12-31</td>\n      <td>0.952849</td>\n      <td>0.000000</td>\n      <td>1.000000</td>\n      <td>0.907120</td>\n    </tr>\n  </tbody>\n</table>\n<p>365 rows × 5 columns</p>\n</div>"
     },
     "execution_count": 46,
     "metadata": {},
     "output_type": "execute_result"
    }
   ],
   "source": [
    "daily_avg_data"
   ],
   "metadata": {
    "collapsed": false,
    "ExecuteTime": {
     "end_time": "2023-11-20T17:39:51.988102Z",
     "start_time": "2023-11-20T17:39:50.973850Z"
    }
   },
   "id": "6343262f04a31a9e"
  },
  {
   "cell_type": "code",
   "execution_count": 47,
   "outputs": [],
   "source": [
    "daily_avg_data['Outdoor_index'] = daily_avg_data['Relative Humidity']*humidity_weight + daily_avg_data['rain']*rain_weight + daily_avg_data['Temperature']*temperature_weight + daily_avg_data['UV']*uv_weight"
   ],
   "metadata": {
    "collapsed": false,
    "ExecuteTime": {
     "end_time": "2023-11-20T17:39:51.988162Z",
     "start_time": "2023-11-20T17:39:50.982089Z"
    }
   },
   "id": "a70856796ff98825"
  },
  {
   "cell_type": "code",
   "execution_count": 48,
   "outputs": [
    {
     "data": {
      "text/plain": "      Date  Relative Humidity  Temperature      rain        UV  Outdoor_index\n0    01-01           0.868335     0.625155  1.000000  0.979592       0.815105\n1    01-02           0.816327     0.893863  0.624180  0.918367       0.809509\n2    01-03           0.660205     0.935443  0.597206  0.918367       0.780367\n3    01-04           0.626504     0.970790  1.000000  0.901224       0.885065\n4    01-05           0.635184     0.992926  0.580539  0.882449       0.789346\n..     ...                ...          ...       ...       ...            ...\n360  12-27           0.655375     0.650631  1.000000  0.966563       0.770752\n361  12-28           0.745600     0.931318  1.000000  0.967942       0.905721\n362  12-29           0.779403     0.988136  1.000000  0.882449       0.928350\n363  12-30           0.897112     0.671031  1.000000  0.907120       0.833402\n364  12-31           0.952849     0.000000  1.000000  0.907120       0.578924\n\n[365 rows x 6 columns]",
      "text/html": "<div>\n<style scoped>\n    .dataframe tbody tr th:only-of-type {\n        vertical-align: middle;\n    }\n\n    .dataframe tbody tr th {\n        vertical-align: top;\n    }\n\n    .dataframe thead th {\n        text-align: right;\n    }\n</style>\n<table border=\"1\" class=\"dataframe\">\n  <thead>\n    <tr style=\"text-align: right;\">\n      <th></th>\n      <th>Date</th>\n      <th>Relative Humidity</th>\n      <th>Temperature</th>\n      <th>rain</th>\n      <th>UV</th>\n      <th>Outdoor_index</th>\n    </tr>\n  </thead>\n  <tbody>\n    <tr>\n      <th>0</th>\n      <td>01-01</td>\n      <td>0.868335</td>\n      <td>0.625155</td>\n      <td>1.000000</td>\n      <td>0.979592</td>\n      <td>0.815105</td>\n    </tr>\n    <tr>\n      <th>1</th>\n      <td>01-02</td>\n      <td>0.816327</td>\n      <td>0.893863</td>\n      <td>0.624180</td>\n      <td>0.918367</td>\n      <td>0.809509</td>\n    </tr>\n    <tr>\n      <th>2</th>\n      <td>01-03</td>\n      <td>0.660205</td>\n      <td>0.935443</td>\n      <td>0.597206</td>\n      <td>0.918367</td>\n      <td>0.780367</td>\n    </tr>\n    <tr>\n      <th>3</th>\n      <td>01-04</td>\n      <td>0.626504</td>\n      <td>0.970790</td>\n      <td>1.000000</td>\n      <td>0.901224</td>\n      <td>0.885065</td>\n    </tr>\n    <tr>\n      <th>4</th>\n      <td>01-05</td>\n      <td>0.635184</td>\n      <td>0.992926</td>\n      <td>0.580539</td>\n      <td>0.882449</td>\n      <td>0.789346</td>\n    </tr>\n    <tr>\n      <th>...</th>\n      <td>...</td>\n      <td>...</td>\n      <td>...</td>\n      <td>...</td>\n      <td>...</td>\n      <td>...</td>\n    </tr>\n    <tr>\n      <th>360</th>\n      <td>12-27</td>\n      <td>0.655375</td>\n      <td>0.650631</td>\n      <td>1.000000</td>\n      <td>0.966563</td>\n      <td>0.770752</td>\n    </tr>\n    <tr>\n      <th>361</th>\n      <td>12-28</td>\n      <td>0.745600</td>\n      <td>0.931318</td>\n      <td>1.000000</td>\n      <td>0.967942</td>\n      <td>0.905721</td>\n    </tr>\n    <tr>\n      <th>362</th>\n      <td>12-29</td>\n      <td>0.779403</td>\n      <td>0.988136</td>\n      <td>1.000000</td>\n      <td>0.882449</td>\n      <td>0.928350</td>\n    </tr>\n    <tr>\n      <th>363</th>\n      <td>12-30</td>\n      <td>0.897112</td>\n      <td>0.671031</td>\n      <td>1.000000</td>\n      <td>0.907120</td>\n      <td>0.833402</td>\n    </tr>\n    <tr>\n      <th>364</th>\n      <td>12-31</td>\n      <td>0.952849</td>\n      <td>0.000000</td>\n      <td>1.000000</td>\n      <td>0.907120</td>\n      <td>0.578924</td>\n    </tr>\n  </tbody>\n</table>\n<p>365 rows × 6 columns</p>\n</div>"
     },
     "execution_count": 48,
     "metadata": {},
     "output_type": "execute_result"
    }
   ],
   "source": [
    "daily_avg_data"
   ],
   "metadata": {
    "collapsed": false,
    "ExecuteTime": {
     "end_time": "2023-11-20T17:39:51.988453Z",
     "start_time": "2023-11-20T17:39:50.989522Z"
    }
   },
   "id": "be266535830d2219"
  },
  {
   "cell_type": "code",
   "execution_count": 49,
   "outputs": [
    {
     "name": "stderr",
     "output_type": "stream",
     "text": [
      "No artists with labels found to put in legend.  Note that artists whose label start with an underscore are ignored when legend() is called with no argument.\n"
     ]
    },
    {
     "data": {
      "text/plain": "<Figure size 2000x600 with 1 Axes>",
      "image/png": "[encoded data removed]"
     },
     "metadata": {},
     "output_type": "display_data"
    }
   ],
   "source": [
    "sns.set()\n",
    "plt.figure(figsize=(20, 6))\n",
    "plt.plot(daily_avg_data[\"Date\"],daily_avg_data[\"Outdoor_index\"])\n",
    "\n",
    "plt.xlabel(\"Date\")\n",
    "plt.ylabel(\"Outdoor index\")\n",
    "plt.title(\"HongKong Outdoor index\")\n",
    "# 显示图形\n",
    "plt.xticks(range(0,len(daily_avg_data[\"Date\"]),25),rotation=30)\n",
    "plt.yticks(size=18)\n",
    "plt.tight_layout()\n",
    "# 添加图例\n",
    "plt.legend()\n",
    "plt.show()"
   ],
   "metadata": {
    "collapsed": false,
    "ExecuteTime": {
     "end_time": "2023-11-20T17:39:52.314711Z",
     "start_time": "2023-11-20T17:39:51.014192Z"
    }
   },
   "id": "b8824c59609f9e8f"
  }
 ],
 "metadata": {
  "kernelspec": {
   "name": "ml",
   "language": "python",
   "display_name": "ML"
  },
  "language_info": {
   "codemirror_mode": {
    "name": "ipython",
    "version": 2
   },
   "file_extension": ".py",
   "mimetype": "text/x-python",
   "name": "python",
   "nbconvert_exporter": "python",
   "pygments_lexer": "ipython2",
   "version": "2.7.6"
  }
 },
 "nbformat": 4,
 "nbformat_minor": 5
}
