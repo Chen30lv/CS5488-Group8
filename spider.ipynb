{
 "cells": [
  {
   "cell_type": "code",
   "execution_count": 1,
   "id": "initial_id",
   "metadata": {
    "collapsed": true,
    "ExecuteTime": {
     "end_time": "2023-11-07T08:12:34.018191Z",
     "start_time": "2023-11-07T08:12:33.971442Z"
    }
   },
   "outputs": [],
   "source": [
    "import requests\n",
    "import os"
   ]
  },
  {
   "cell_type": "code",
   "execution_count": 2,
   "outputs": [],
   "source": [
    "def xml(name,text):        \n",
    "    b = '/Users/lyu/School/SemeterA/Big_Data/project/data/'\n",
    " \n",
    "    if not os.path.exists(b):     \n",
    "        os.makedirs(b)\n",
    "    \n",
    "    fname = b + name + '.xml'    \n",
    " \n",
    "    file = open(fname,'w')\n",
    " \n",
    "    file.write(text)\n",
    " \n",
    "    file.close()\n",
    "    print ('file ' + name + '.xml' + ' is ok.')"
   ],
   "metadata": {
    "collapsed": false,
    "ExecuteTime": {
     "end_time": "2023-11-07T08:12:34.021552Z",
     "start_time": "2023-11-07T08:12:34.019145Z"
    }
   },
   "id": "b0bebbba6c9b41f5"
  },
  {
   "cell_type": "code",
   "execution_count": 4,
   "outputs": [],
   "source": [
    "f = open(\"API1.txt\")\n",
    "URL = open(\"URL1.txt\", 'a')\n",
    "line = f.readlines()\n",
    "for i in range(line.__len__()):\n",
    "    if i % 2 == 0:\n",
    "        URL.write(line[i])\n",
    "f.close()\n",
    "URL.close()"
   ],
   "metadata": {
    "collapsed": false,
    "ExecuteTime": {
     "end_time": "2023-11-07T08:12:34.032474Z",
     "start_time": "2023-11-07T08:12:34.025771Z"
    }
   },
   "id": "b33154b6c94c1a9a"
  },
  {
   "cell_type": "code",
   "execution_count": 7,
   "outputs": [],
   "source": [
    "f = open(\"API2.txt\")\n",
    "URL = open(\"URL2.txt\", 'a')\n",
    "line = f.readlines()\n",
    "for i in range(line.__len__()):\n",
    "    if i % 2 == 0:\n",
    "        URL.write(line[i])\n",
    "f.close()\n",
    "URL.close()"
   ],
   "metadata": {
    "collapsed": false,
    "ExecuteTime": {
     "end_time": "2023-11-07T10:12:44.429844Z",
     "start_time": "2023-11-07T10:12:44.421407Z"
    }
   },
   "id": "7a64f7615a91b1f5"
  },
  {
   "cell_type": "code",
   "execution_count": 5,
   "outputs": [],
   "source": [
    "headers = {\n",
    "    'user-agent': 'Mozilla/5.0 (Macintosh; Intel Mac OS X 10_15_7) AppleWebKit/537.36 (KHTML, like Gecko) Chrome/118.0.0.0 Safari/537.36'\n",
    "}"
   ],
   "metadata": {
    "collapsed": false,
    "ExecuteTime": {
     "end_time": "2023-11-07T08:12:34.035437Z",
     "start_time": "2023-11-07T08:12:34.032814Z"
    }
   },
   "id": "70fef025cc010317"
  },
  {
   "cell_type": "code",
   "execution_count": null,
   "outputs": [],
   "source": [
    "URL = open(\"URL1.txt\")\n",
    "urls = URL.readlines()\n",
    "for url in urls:\n",
    "    url = url.strip('\\n')\n",
    "    name = url[124:137] + '-data-dictionary'\n",
    "    r = requests.get(url, headers=headers)\n",
    "    xml(name, r.text)\n",
    "print('All the work has done.')"
   ],
   "metadata": {
    "collapsed": false
   },
   "id": "48d6f01aeabe552c"
  },
  {
   "cell_type": "code",
   "execution_count": null,
   "outputs": [],
   "source": [
    "URL = open(\"URL2.txt\")\n",
    "urls = URL.readlines()\n",
    "for url in urls:\n",
    "    url = url.strip('\\n')\n",
    "    name = url[124:137] + '-data-dictionary'\n",
    "    r = requests.get(url, headers=headers)\n",
    "    xml(name, r.text)\n",
    "print('All the work has done.')"
   ],
   "metadata": {
    "collapsed": false
   },
   "id": "9d2c9240dc24e8c6"
  }
 ],
 "metadata": {
  "kernelspec": {
   "name": "ml",
   "language": "python",
   "display_name": "ML"
  },
  "language_info": {
   "codemirror_mode": {
    "name": "ipython",
    "version": 2
   },
   "file_extension": ".py",
   "mimetype": "text/x-python",
   "name": "python",
   "nbconvert_exporter": "python",
   "pygments_lexer": "ipython2",
   "version": "2.7.6"
  }
 },
 "nbformat": 4,
 "nbformat_minor": 5
}
