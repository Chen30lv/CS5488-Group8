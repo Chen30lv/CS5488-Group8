{
 "cells": [
  {
   "cell_type": "code",
   "execution_count": 68,
   "id": "ad73d2a4",
   "metadata": {
    "ExecuteTime": {
     "end_time": "2023-11-13T13:10:08.425161300Z",
     "start_time": "2023-11-13T13:10:08.421157700Z"
    }
   },
   "outputs": [],
   "source": [
    "import requests\n",
    "import os\n",
    "from joblib import Parallel, delayed"
   ]
  },
  {
   "cell_type": "code",
   "execution_count": 69,
   "id": "30b2c17c",
   "metadata": {
    "ExecuteTime": {
     "end_time": "2023-11-13T13:10:08.431444300Z",
     "start_time": "2023-11-13T13:10:08.425161300Z"
    }
   },
   "outputs": [],
   "source": [
    "def xml(name,text):        \n",
    "    b = 'data_2023/'\n",
    " \n",
    "    if not os.path.exists(b):     \n",
    "        os.makedirs(b)\n",
    "    \n",
    "    fname = b + name + '.xml'    \n",
    " \n",
    "    file = open(fname,'w', encoding='utf-8')\n",
    " \n",
    "    file.write(text)\n",
    " \n",
    "    file.close()\n",
    "    print ('file ' + name + '.xml' + ' is ok.')"
   ]
  },
  {
   "cell_type": "code",
   "execution_count": 70,
   "id": "860d8070",
   "metadata": {
    "ExecuteTime": {
     "end_time": "2023-11-13T13:10:08.445616300Z",
     "start_time": "2023-11-13T13:10:08.427432900Z"
    }
   },
   "outputs": [],
   "source": [
    "f = open(\"API2023.txt\")\n",
    "URL = open(\"URL2023.txt\", 'a')\n",
    "line = f.readlines()\n",
    "for i in range(line.__len__()):\n",
    "    if i % 2 == 0:\n",
    "        URL.write(line[i])\n",
    "f.close()\n",
    "URL.close()"
   ]
  },
  {
   "cell_type": "code",
   "execution_count": 71,
   "id": "c8edeb25",
   "metadata": {
    "ExecuteTime": {
     "end_time": "2023-11-13T13:10:08.445616300Z",
     "start_time": "2023-11-13T13:10:08.441572Z"
    }
   },
   "outputs": [],
   "source": [
    "headers = {\n",
    "    'user-agent': 'Mozilla/5.0 (Macintosh; Intel Mac OS X 10_15_7) AppleWebKit/537.36 (KHTML, like Gecko) Chrome/118.0.0.0 Safari/537.36'\n",
    "}"
   ]
  },
  {
   "cell_type": "code",
   "execution_count": 72,
   "id": "afc96120",
   "metadata": {
    "ExecuteTime": {
     "end_time": "2023-11-13T13:10:08.451814500Z",
     "start_time": "2023-11-13T13:10:08.445085900Z"
    }
   },
   "outputs": [],
   "source": [
    "def url_func(url):\n",
    "    url = url.strip('\\n')\n",
    "    name = url[124:137]\n",
    "    r = requests.get(url, headers=headers)\n",
    "    xml(name, r.text)"
   ]
  },
  {
   "cell_type": "code",
   "execution_count": 73,
   "id": "dce4fa3d",
   "metadata": {
    "ExecuteTime": {
     "end_time": "2023-11-13T13:14:05.517715500Z",
     "start_time": "2023-11-13T13:10:08.448268100Z"
    }
   },
   "outputs": [],
   "source": [
    "URL_list=[\"URL2023.txt\"]\n",
    "for URL_name in URL_list:\n",
    "    URL=open(URL_name)\n",
    "    urls = URL.readlines()\n",
    "    Parallel(n_jobs=-1)(delayed(url_func)(url) for url in urls)\n",
    "    URL.close()"
   ]
  }
 ],
 "metadata": {
  "kernelspec": {
   "display_name": "Python 3 (ipykernel)",
   "language": "python",
   "name": "python3"
  },
  "language_info": {
   "codemirror_mode": {
    "name": "ipython",
    "version": 3
   },
   "file_extension": ".py",
   "mimetype": "text/x-python",
   "name": "python",
   "nbconvert_exporter": "python",
   "pygments_lexer": "ipython3",
   "version": "3.9.13"
  }
 },
 "nbformat": 4,
 "nbformat_minor": 5
}
