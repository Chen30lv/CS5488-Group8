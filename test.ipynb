{
 "cells": [
  {
   "cell_type": "code",
   "execution_count": 10,
   "id": "initial_id",
   "metadata": {
    "collapsed": true,
    "ExecuteTime": {
     "end_time": "2023-11-11T18:10:16.048952Z",
     "start_time": "2023-11-11T18:10:16.038007Z"
    }
   },
   "outputs": [],
   "source": [
    "import os\n",
    "import xml.etree.ElementTree as ET\n",
    "import re\n",
    "from datetime import datetime,timedelta\n",
    "import pytz"
   ]
  },
  {
   "cell_type": "code",
   "execution_count": 13,
   "outputs": [],
   "source": [
    "def convert_to_beijing_time(gmt_time_str):\n",
    "    \n",
    "    gmt_timezone = pytz.timezone('GMT')\n",
    "\n",
    "    gmt_time = datetime.strptime(gmt_time_str, '%a, %d %b %Y %H:%M:%S %Z').replace(tzinfo=gmt_timezone)\n",
    "    \n",
    "    beijing_timezone = pytz.timezone('Asia/Shanghai')\n",
    "    \n",
    "    beijing_time = gmt_time.astimezone(beijing_timezone)\n",
    "\n",
    "    return beijing_time.strftime('%Y-%m-%d %H:%M:%S')"
   ],
   "metadata": {
    "collapsed": false,
    "ExecuteTime": {
     "end_time": "2023-11-11T18:11:24.822982Z",
     "start_time": "2023-11-11T18:11:24.816672Z"
    }
   },
   "id": "101d4c3e7726b5d3"
  },
  {
   "cell_type": "code",
   "execution_count": 14,
   "outputs": [
    {
     "name": "stdout",
     "output_type": "stream",
     "text": [
      "\n",
      "        \n",
      "         <img src=\"https://rss.weather.gov.hk/img/pic54.png\" style=\"vertical-align: middle;\">        <p>At \n",
      "        3 p.m. \n",
      "               at the Hong Kong Observatory :<br/>\n",
      "        Air temperature : 29 degrees Celsius<br/>\n",
      "        Relative Humidity : 81 per cent<br/>\n",
      "        During the past hour\n",
      "        the mean UV Index recorded at King's Park : 3<br/>\n",
      "        Intensity of UV radiation : moderate<br/>        \t\t \t\t\t\t\t\t\t\t\t\t    \t\t\t\t\t\t\t\t\t\t\t\t\t\t\t\t\t\t\t\t\t\t\t\t\t<br/><font color=\"red\"><SPAN id='warning_message' >Please be reminded that:<br/>The Thunderstorm Warning was issued at 3:25 p.m. It will remain effective until 6:00 p.m. today. Isolated squally thunderstorms are expected to occur over Hong Kong.<br/></SPAN><br/>\t\t</font>                The air temperatures at other places were:\n",
      "                <br/>\n",
      "                <font size=\"-1\">\n",
      "    <table border=\"0\" cellspacing=\"0\" cellpadding=\"0\">\n",
      "    <tr><td><font size=\"-1\">Hong Kong Observatory</font></td><td width=\"100\" align=\"right\"><font size=\"-1\">29 degrees ;</font></td></tr>\n",
      "    <tr><td><font size=\"-1\">King's Park</font></td><td width=\"100\" align=\"right\"><font size=\"-1\">28 degrees ;</font></td></tr>\n",
      "    <tr><td><font size=\"-1\">Wong Chuk Hang</font></td><td width=\"100\" align=\"right\"><font size=\"-1\">29 degrees ;</font></td></tr>\n",
      "    <tr><td><font size=\"-1\">Ta Kwu Ling</font></td><td width=\"100\" align=\"right\"><font size=\"-1\">30 degrees ;</font></td></tr>\n",
      "    <tr><td><font size=\"-1\">Lau Fau Shan</font></td><td width=\"100\" align=\"right\"><font size=\"-1\">30 degrees ;</font></td></tr>\n",
      "    <tr><td><font size=\"-1\">Tai Po</font></td><td width=\"100\" align=\"right\"><font size=\"-1\">29 degrees ;</font></td></tr>\n",
      "    <tr><td><font size=\"-1\">Sha Tin</font></td><td width=\"100\" align=\"right\"><font size=\"-1\">29 degrees ;</font></td></tr>\n",
      "    <tr><td><font size=\"-1\">Tuen Mun</font></td><td width=\"100\" align=\"right\"><font size=\"-1\">30 degrees ;</font></td></tr>\n",
      "    <tr><td><font size=\"-1\">Tseung Kwan O</font></td><td width=\"100\" align=\"right\"><font size=\"-1\">28 degrees ;</font></td></tr>\n",
      "    <tr><td><font size=\"-1\">Sai Kung</font></td><td width=\"100\" align=\"right\"><font size=\"-1\">29 degrees ;</font></td></tr>\n",
      "    <tr><td><font size=\"-1\">Cheung Chau</font></td><td width=\"100\" align=\"right\"><font size=\"-1\">25 degrees ;</font></td></tr>\n",
      "    <tr><td><font size=\"-1\">Chek Lap Kok</font></td><td width=\"100\" align=\"right\"><font size=\"-1\">31 degrees ;</font></td></tr>\n",
      "    <tr><td><font size=\"-1\">Tsing Yi</font></td><td width=\"100\" align=\"right\"><font size=\"-1\">30 degrees ;</font></td></tr>\n",
      "    <tr><td><font size=\"-1\">Shek Kong</font></td><td width=\"100\" align=\"right\"><font size=\"-1\">29 degrees ;</font></td></tr>\n",
      "    <tr><td><font size=\"-1\">Tsuen Wan Ho Koon</font></td><td width=\"100\" align=\"right\"><font size=\"-1\">27 degrees ;</font></td></tr>\n",
      "    <tr><td><font size=\"-1\">Tsuen Wan Shing Mun Valley</font></td><td width=\"100\" align=\"right\"><font size=\"-1\">29 degrees ;</font></td></tr>\n",
      "    <tr><td><font size=\"-1\">Hong Kong Park</font></td><td width=\"100\" align=\"right\"><font size=\"-1\">28 degrees ;</font></td></tr>\n",
      "    <tr><td><font size=\"-1\">Shau Kei Wan</font></td><td width=\"100\" align=\"right\"><font size=\"-1\">28 degrees ;</font></td></tr>\n",
      "    <tr><td><font size=\"-1\">Kowloon City</font></td><td width=\"100\" align=\"right\"><font size=\"-1\">28 degrees ;</font></td></tr>\n",
      "    <tr><td><font size=\"-1\">Happy Valley</font></td><td width=\"100\" align=\"right\"><font size=\"-1\">29 degrees ;</font></td></tr>\n",
      "    <tr><td><font size=\"-1\">Wong Tai Sin</font></td><td width=\"100\" align=\"right\"><font size=\"-1\">28 degrees ;</font></td></tr>\n",
      "    <tr><td><font size=\"-1\">Stanley</font></td><td width=\"100\" align=\"right\"><font size=\"-1\">28 degrees ;</font></td></tr>\n",
      "    <tr><td><font size=\"-1\">Kwun Tong</font></td><td width=\"100\" align=\"right\"><font size=\"-1\">28 degrees ;</font></td></tr>\n",
      "    <tr><td><font size=\"-1\">Sham Shui Po</font></td><td width=\"100\" align=\"right\"><font size=\"-1\">29 degrees ;</font></td></tr>\n",
      "    <tr><td><font size=\"-1\">Kai Tak Runway Park</font></td><td width=\"100\" align=\"right\"><font size=\"-1\">29 degrees ;</font></td></tr>\n",
      "    <tr><td><font size=\"-1\">Yuen Long Park</font></td><td width=\"100\" align=\"right\"><font size=\"-1\">30 degrees ;</font></td></tr>\n",
      "    <tr><td><font size=\"-1\">Tai Mei Tuk</font></td><td width=\"100\" align=\"right\"><font size=\"-1\">28 degrees .</font></td></tr>\n",
      "    </table></font></p>\n",
      "Between 1:45 and 2:45 p.m., lightning was detected within Hong Kong and Kowloon. The rainfall recorded in various regions were:<br/><br/>    <table border=\"0\" cellspacing=\"0\" cellpadding=\"0\">\n",
      "                <tr><td>Islands District</td><td width=\"100\" align=\"right\">0 to 3&nbsp;mm.</td></tr>\n",
      "        </table><br/>\n",
      "        \n",
      "        \n",
      "['2022-10-01 15:26:00', '29', '81', '3', 'The Thunderstorm Warning was issued at 3:25 p.m. It will remain effective until 6:00 p.m. today. Isolated squally thunderstorms are expected to occur over Hong Kong.']\n"
     ]
    }
   ],
   "source": [
    "tree = ET.parse('/Users/lyu/School/SemeterA/Big_Data/final_project/data/20221001-1601.xml')\n",
    "root = tree.getroot()\n",
    "    \n",
    "data_row = []\n",
    "    \n",
    "# Open the new file in write mode\n",
    "with open('output' + '.txt', 'w') as f:\n",
    "    for item in root.iter('item'):\n",
    "        print(item.find('description').text)\n",
    "            # Extract and write the time\n",
    "        time = item.find('pubDate').text\n",
    "        time = convert_to_beijing_time(time)\n",
    "        f.write(f'Time: {time}\\n')\n",
    "        data_row.append(time)\n",
    "    \n",
    "        # Extract and write the air temperature and relative humidity\n",
    "        description = item.find('description').text\n",
    "        air_temp = re.search('Air temperature : (.*) degrees Celsius', description).group(1)\n",
    "        rel_humidity = re.search('Relative Humidity : (.*) per cent', description).group(1)\n",
    "        uv = re.search('the mean UV Index recorded at King\\'s Park : (.*)<br/>', description).group(1)\n",
    "        remind = re.search('reminded that:<br/>(.*)<br/></SPAN><br/>', description).group(1)\n",
    "        f.write(f'Air Temperature: {air_temp} degrees Celsius\\n')\n",
    "        f.write(f'Relative Humidity: {rel_humidity} per cent\\n')\n",
    "        f.write(f'the mean UV Index recorded at King\\'s Park : {uv}\\n')\n",
    "        f.write(f'remind that: {remind}\\n')\n",
    "        data_row.append(air_temp)\n",
    "        data_row.append(rel_humidity)\n",
    "        data_row.append(uv)\n",
    "        data_row.append(remind)\n",
    "        print(data_row)\n",
    "    \n",
    "        # Extract and write the air temperatures at other places\n",
    "        f.write('Air Temperatures at Other Places:\\n')\n",
    "        for match in re.finditer('<tr><td><font size=\"-1\">(.*?)</font></td><td width=\"100\" align=\"right\"><font size=\"-1\">(.*?) ;</font></td></tr>', description):\n",
    "            place_temp = match.group(1) + ' ' + match.group(2)\n",
    "            f.write(f'{place_temp}\\n')\n",
    "    \n",
    "        # Extract and write the rainfall recorded in various regions\n",
    "        f.write('Rainfall Recorded in Various Regions:\\n')\n",
    "        for match in re.finditer('<tr><td>(.*?)</td><td width=\"100\" align=\"right\">(.*?)&nbsp;mm.', description):\n",
    "            rainfall = match.group(1) + ' ' + match.group(2) + ' mm' \n",
    "            f.write(f'{rainfall}\\n')"
   ],
   "metadata": {
    "collapsed": false,
    "ExecuteTime": {
     "end_time": "2023-11-11T18:11:46.201248Z",
     "start_time": "2023-11-11T18:11:46.196368Z"
    }
   },
   "id": "ceda5bb5676545cc"
  },
  {
   "cell_type": "code",
   "execution_count": 29,
   "outputs": [],
   "source": [
    "def write_xml_area(file_path):\n",
    "\n",
    "    tree = ET.parse(file_path)\n",
    "    root = tree.getroot()\n",
    "    \n",
    "    data_row = []\n",
    "    \n",
    "    # Open the new file in write mode\n",
    "    for item in root.iter('item'):\n",
    "        time = item.find('pubDate').text\n",
    "        time = convert_to_beijing_time(time)\n",
    "        data_row.append(time)\n",
    "    \n",
    "        description = item.find('description').text\n",
    "        \n",
    "        # Extract and write the air temperatures at other places\n",
    "        for match in re.finditer('<tr><td><font size=\"-1\">(.*?)</font></td><td width=\"100\" align=\"right\"><font size=\"-1\">(.*?) degrees ', description):\n",
    "            place_temp = match.group(2)\n",
    "            data_row.append(place_temp)\n",
    "        print(data_row)\n",
    "        print(data_row.__len__())"
   ],
   "metadata": {
    "collapsed": false,
    "ExecuteTime": {
     "end_time": "2023-11-11T19:25:02.734007Z",
     "start_time": "2023-11-11T19:25:02.729048Z"
    }
   },
   "id": "b61e5d0b2b92005c"
  },
  {
   "cell_type": "code",
   "execution_count": 30,
   "outputs": [
    {
     "name": "stdout",
     "output_type": "stream",
     "text": [
      "['2022-09-30 23:11:00', '26', '25', '25', '24', '24', '24', '25', '25', '25', '25', '24', '26', '25', '24', '23', '24', '25', '25', '25', '25', '26', '26', '25', '25', '26', '24', '25']\n",
      "28\n"
     ]
    }
   ],
   "source": [
    "write_xml_area('/Users/lyu/School/SemeterA/Big_Data/final_project/data/20221001-0001.xml')"
   ],
   "metadata": {
    "collapsed": false,
    "ExecuteTime": {
     "end_time": "2023-11-11T19:25:04.947079Z",
     "start_time": "2023-11-11T19:25:04.942236Z"
    }
   },
   "id": "1d9b3e15cfd7bf8d"
  }
 ],
 "metadata": {
  "kernelspec": {
   "name": "ml",
   "language": "python",
   "display_name": "ML"
  },
  "language_info": {
   "codemirror_mode": {
    "name": "ipython",
    "version": 2
   },
   "file_extension": ".py",
   "mimetype": "text/x-python",
   "name": "python",
   "nbconvert_exporter": "python",
   "pygments_lexer": "ipython2",
   "version": "2.7.6"
  }
 },
 "nbformat": 4,
 "nbformat_minor": 5
}
