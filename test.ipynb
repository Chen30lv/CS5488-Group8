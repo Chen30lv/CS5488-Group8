{
 "cells": [
  {
   "cell_type": "code",
   "execution_count": null,
   "id": "initial_id",
   "metadata": {
    "collapsed": true
   },
   "outputs": [],
   "source": [
    "import os\n",
    "import xml.etree.ElementTree as ET\n",
    "import re"
   ]
  },
  {
   "cell_type": "code",
   "execution_count": null,
   "outputs": [],
   "source": [
    "tree = ET.parse('/Users/lyu/School/SemeterA/Big_Data/project/data/20221001-1701.xml')\n",
    "root = tree.getroot()\n",
    "    \n",
    "data_row = []\n",
    "    \n",
    "# Open the new file in write mode\n",
    "with open('output' + '.txt', 'w') as f:\n",
    "    for item in root.iter('item'):\n",
    "            # Extract and write the time\n",
    "        time = item.find('pubDate').text\n",
    "        f.write(f'Time: {time}\\n')\n",
    "        data_row.append(time)\n",
    "    \n",
    "        # Extract and write the air temperature and relative humidity\n",
    "        description = item.find('description').text\n",
    "        air_temp = re.search('Air temperature : (.*) degrees Celsius', description).group(1)\n",
    "        rel_humidity = re.search('Relative Humidity : (.*) per cent', description).group(1)\n",
    "        f.write(f'Air Temperature: {air_temp} degrees Celsius\\n')\n",
    "        f.write(f'Relative Humidity: {rel_humidity} per cent\\n')\n",
    "        data_row.append(air_temp)\n",
    "        data_row.append(rel_humidity)\n",
    "        print(data_row)\n",
    "    \n",
    "        # Extract and write the air temperatures at other places\n",
    "        f.write('Air Temperatures at Other Places:\\n')\n",
    "        for match in re.finditer('<tr><td><font size=\"-1\">(.*?)</font></td><td width=\"100\" align=\"right\"><font size=\"-1\">(.*?) ;</font></td></tr>', description):\n",
    "            place_temp = match.group(1) + ' ' + match.group(2)\n",
    "            f.write(f'{place_temp}\\n')\n",
    "    \n",
    "        # Extract and write the rainfall recorded in various regions\n",
    "        f.write('Rainfall Recorded in Various Regions:\\n')\n",
    "        for match in re.finditer('<tr><td>(.*?)</td><td width=\"100\" align=\"right\">(.*?)&nbsp;mm.', description):\n",
    "            rainfall = match.group(1) + ' ' + match.group(2) + ' mm' \n",
    "            f.write(f'{rainfall}\\n')"
   ],
   "metadata": {
    "collapsed": false
   },
   "id": "ceda5bb5676545cc"
  },
  {
   "cell_type": "code",
   "execution_count": null,
   "outputs": [],
   "source": [],
   "metadata": {
    "collapsed": false
   },
   "id": "b61e5d0b2b92005c"
  }
 ],
 "metadata": {
  "kernelspec": {
   "display_name": "Python 3",
   "language": "python",
   "name": "python3"
  },
  "language_info": {
   "codemirror_mode": {
    "name": "ipython",
    "version": 2
   },
   "file_extension": ".py",
   "mimetype": "text/x-python",
   "name": "python",
   "nbconvert_exporter": "python",
   "pygments_lexer": "ipython2",
   "version": "2.7.6"
  }
 },
 "nbformat": 4,
 "nbformat_minor": 5
}
