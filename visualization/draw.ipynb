{
 "cells": [
  {
   "cell_type": "code",
   "execution_count": 1,
   "id": "initial_id",
   "metadata": {
    "collapsed": true,
    "ExecuteTime": {
     "end_time": "2023-11-14T14:45:18.790794Z",
     "start_time": "2023-11-14T14:45:18.785283Z"
    }
   },
   "outputs": [],
   "source": [
    "import numpy as np\n",
    "\n",
    "import pandas as pd\n",
    "\n",
    "import matplotlib as mpl\n",
    "\n",
    "import matplotlib.pyplot as plt\n",
    "\n",
    "import seaborn as sns"
   ]
  },
  {
   "cell_type": "code",
   "execution_count": 21,
   "outputs": [
    {
     "name": "stdout",
     "output_type": "stream",
     "text": [
      "<class 'pandas.core.frame.DataFrame'>\n",
      "RangeIndex: 5698 entries, 0 to 5697\n",
      "Data columns (total 28 columns):\n",
      " #   Column                      Non-Null Count  Dtype \n",
      "---  ------                      --------------  ----- \n",
      " 0   Time                        5698 non-null   object\n",
      " 1   Hong Kong Observatory       5698 non-null   int64 \n",
      " 2   King's Park                 5698 non-null   int64 \n",
      " 3   Wong Chuk Hang              5698 non-null   int64 \n",
      " 4   Ta Kwu Ling                 5698 non-null   int64 \n",
      " 5   Lau Fau Shan                5698 non-null   int64 \n",
      " 6   Tai Po                      5698 non-null   int64 \n",
      " 7   Sha Tin                     5698 non-null   int64 \n",
      " 8   Tuen Mun                    5698 non-null   int64 \n",
      " 9   Tseung Kwan                 5698 non-null   int64 \n",
      " 10  Sai Kung                    5698 non-null   int64 \n",
      " 11  Cheung Chau                 5698 non-null   int64 \n",
      " 12  Chek Lap Kok                5698 non-null   int64 \n",
      " 13  Tsing Yi                    5698 non-null   int64 \n",
      " 14  Shek Kong                   5698 non-null   int64 \n",
      " 15  Tsuen Wan Ho Koon           5698 non-null   int64 \n",
      " 16  Tsuen Wan Shing Mun Valley  5698 non-null   int64 \n",
      " 17  Hong Kong Park              5698 non-null   int64 \n",
      " 18  Shau Kei Wan                5698 non-null   int64 \n",
      " 19  Kowloon City                5698 non-null   int64 \n",
      " 20  Happy Valley                5698 non-null   int64 \n",
      " 21  Wong Tai Sin                5698 non-null   int64 \n",
      " 22  Stanley                     5698 non-null   int64 \n",
      " 23  Kwun Tong                   5698 non-null   int64 \n",
      " 24  Sham Shui                   5698 non-null   int64 \n",
      " 25  Kai Tak Runway Park         5698 non-null   int64 \n",
      " 26  Yuen Long Park              5698 non-null   int64 \n",
      " 27  Tai Mei Tuk                 5698 non-null   int64 \n",
      "dtypes: int64(27), object(1)\n",
      "memory usage: 1.2+ MB\n"
     ]
    }
   ],
   "source": [
    "data = pd.read_csv(\"data_info_area_show.csv\")\n",
    "data.info()"
   ],
   "metadata": {
    "collapsed": false,
    "ExecuteTime": {
     "end_time": "2023-11-14T15:46:36.557222Z",
     "start_time": "2023-11-14T15:46:36.530837Z"
    }
   },
   "id": "229c0412cc2b2d87"
  },
  {
   "cell_type": "markdown",
   "source": [
    "Time 范围 2022.10.01 - 2023.11.01"
   ],
   "metadata": {
    "collapsed": false
   },
   "id": "c459530d96667875"
  },
  {
   "cell_type": "code",
   "execution_count": null,
   "outputs": [],
   "source": [],
   "metadata": {
    "collapsed": false
   },
   "id": "902fed237f0501bf"
  }
 ],
 "metadata": {
  "kernelspec": {
   "display_name": "Python 3",
   "language": "python",
   "name": "python3"
  },
  "language_info": {
   "codemirror_mode": {
    "name": "ipython",
    "version": 2
   },
   "file_extension": ".py",
   "mimetype": "text/x-python",
   "name": "python",
   "nbconvert_exporter": "python",
   "pygments_lexer": "ipython2",
   "version": "2.7.6"
  }
 },
 "nbformat": 4,
 "nbformat_minor": 5
}
