{
 "cells": [
  {
   "cell_type": "code",
   "execution_count": 8,
   "id": "initial_id",
   "metadata": {
    "collapsed": true,
    "ExecuteTime": {
     "end_time": "2023-11-16T07:56:10.792823Z",
     "start_time": "2023-11-16T07:56:10.788837Z"
    }
   },
   "outputs": [],
   "source": [
    "import numpy as np\n",
    "\n",
    "import pandas as pd\n",
    "\n",
    "import matplotlib as mpl\n",
    "\n",
    "import matplotlib.pyplot as plt\n",
    "\n",
    "import seaborn as sns"
   ]
  },
  {
   "cell_type": "code",
   "execution_count": 12,
   "outputs": [
    {
     "data": {
      "text/plain": "                  Time   UV Intensity\n0  2019-07-31 08:02:00  0.3       low\n1  2019-07-31 09:02:00  0.6       low\n2  2019-07-31 09:16:00  0.6       low\n3  2019-07-31 10:02:00  1.0       low\n4  2019-07-31 11:11:00  3.0  moderate",
      "text/html": "<div>\n<style scoped>\n    .dataframe tbody tr th:only-of-type {\n        vertical-align: middle;\n    }\n\n    .dataframe tbody tr th {\n        vertical-align: top;\n    }\n\n    .dataframe thead th {\n        text-align: right;\n    }\n</style>\n<table border=\"1\" class=\"dataframe\">\n  <thead>\n    <tr style=\"text-align: right;\">\n      <th></th>\n      <th>Time</th>\n      <th>UV</th>\n      <th>Intensity</th>\n    </tr>\n  </thead>\n  <tbody>\n    <tr>\n      <th>0</th>\n      <td>2019-07-31 08:02:00</td>\n      <td>0.3</td>\n      <td>low</td>\n    </tr>\n    <tr>\n      <th>1</th>\n      <td>2019-07-31 09:02:00</td>\n      <td>0.6</td>\n      <td>low</td>\n    </tr>\n    <tr>\n      <th>2</th>\n      <td>2019-07-31 09:16:00</td>\n      <td>0.6</td>\n      <td>low</td>\n    </tr>\n    <tr>\n      <th>3</th>\n      <td>2019-07-31 10:02:00</td>\n      <td>1.0</td>\n      <td>low</td>\n    </tr>\n    <tr>\n      <th>4</th>\n      <td>2019-07-31 11:11:00</td>\n      <td>3.0</td>\n      <td>moderate</td>\n    </tr>\n  </tbody>\n</table>\n</div>"
     },
     "execution_count": 12,
     "metadata": {},
     "output_type": "execute_result"
    }
   ],
   "source": [
    "data = pd.read_csv(\"../2019-2023full_data/data_info_uv_par.csv\")\n",
    "\n",
    "data.head()"
   ],
   "metadata": {
    "collapsed": false,
    "ExecuteTime": {
     "end_time": "2023-11-16T07:58:42.436311900Z",
     "start_time": "2023-11-16T07:58:42.407676800Z"
    }
   },
   "id": "31692afdcd8635a5"
  },
  {
   "cell_type": "code",
   "execution_count": null,
   "outputs": [],
   "source": [],
   "metadata": {
    "collapsed": false,
    "ExecuteTime": {
     "end_time": "2023-11-16T07:51:41.633750600Z",
     "start_time": "2023-11-16T07:51:41.633750600Z"
    }
   },
   "id": "7e34ecba2da32962"
  }
 ],
 "metadata": {
  "kernelspec": {
   "display_name": "Python 3",
   "language": "python",
   "name": "python3"
  },
  "language_info": {
   "codemirror_mode": {
    "name": "ipython",
    "version": 2
   },
   "file_extension": ".py",
   "mimetype": "text/x-python",
   "name": "python",
   "nbconvert_exporter": "python",
   "pygments_lexer": "ipython2",
   "version": "2.7.6"
  }
 },
 "nbformat": 4,
 "nbformat_minor": 5
}
